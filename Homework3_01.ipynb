{
  "nbformat": 4,
  "nbformat_minor": 0,
  "metadata": {
    "kernelspec": {
      "display_name": "Python 3",
      "language": "python",
      "name": "python3"
    },
    "language_info": {
      "codemirror_mode": {
        "name": "ipython",
        "version": 3
      },
      "file_extension": ".py",
      "mimetype": "text/x-python",
      "name": "python",
      "nbconvert_exporter": "python",
      "pygments_lexer": "ipython3",
      "version": "3.8.5"
    },
    "colab": {
      "name": "Homework3-01.ipynb",
      "provenance": [],
      "collapsed_sections": [],
      "include_colab_link": true
    }
  },
  "cells": [
    {
      "cell_type": "markdown",
      "metadata": {
        "id": "view-in-github",
        "colab_type": "text"
      },
      "source": [
        "<a href=\"https://colab.research.google.com/github/youknowds/assignment/blob/python2/Homework3_01.ipynb\" target=\"_parent\"><img src=\"https://colab.research.google.com/assets/colab-badge.svg\" alt=\"Open In Colab\"/></a>"
      ]
    },
    {
      "cell_type": "markdown",
      "metadata": {
        "dc": {
          "key": "3"
        },
        "deletable": false,
        "editable": false,
        "run_control": {
          "frozen": true
        },
        "tags": [
          "context"
        ],
        "id": "pkCrbK4eWOpl",
        "colab_type": "text"
      },
      "source": [
        "## 1. The most Nobel of Prizes\n",
        "<p><img style=\"float: right;margin:5px 20px 5px 1px; max-width:250px\" src=\"https://assets.datacamp.com/production/project_441/img/Nobel_Prize.png\"></p>\n",
        "<p>The Nobel Prize is perhaps the world's most well known scientific award. Except for the honor, prestige and substantial prize money the recipient also gets a gold medal showing Alfred Nobel (1833 - 1896) who established the prize. Every year it's given to scientists and scholars in the categories chemistry, literature, physics, physiology or medicine, economics, and peace. The first Nobel Prize was handed out in 1901, and at that time the Prize was very Eurocentric and male-focused, but nowadays it's not biased in any way whatsoever. Surely. Right?</p>\n",
        "<p>Well, we're going to find out! The Nobel Foundation has made a dataset available of all prize winners from the start of the prize, in 1901, to 2016. Let's load it in and take a look.</p>"
      ]
    },
    {
      "cell_type": "markdown",
      "metadata": {
        "id": "bJmXgsgsWOpm",
        "colab_type": "text"
      },
      "source": [
        "-------------------------------------\n",
        "Load the required libraries and the Nobel Prize dataset.\n",
        "\n",
        "- Import the pandas library as pd.\n",
        "- Import the seaborn library as sns.\n",
        "- Import the numpy library as np.\n",
        "- Use pd.read_csv to read in datasets/nobel.csv and save it into nobel.\n",
        "- Show at least the first six entries of nobel using the head() method, setting n=6 or greater.\n",
        "\n",
        "\n",
        "#### Good to know\n",
        "Note: a test in this task relies on the expected last output of this cell. In this case, the first six entries of nobel being displayed. If this is not the case, you may run into the following error after ten seconds of the cell being processed: \"Your code exceeded the maximum run time permitted.\"\n",
        "\n",
        "--------------------------------------"
      ]
    },
    {
      "cell_type": "code",
      "metadata": {
        "id": "UnTIe0ZtWwvO",
        "colab_type": "code",
        "colab": {
          "base_uri": "https://localhost:8080/",
          "height": 34
        },
        "outputId": "955e4dbf-115b-435c-873d-345fe0693e93"
      },
      "source": [
        "from google.colab import drive\n",
        "drive.mount('/content/gdrive')"
      ],
      "execution_count": 1,
      "outputs": [
        {
          "output_type": "stream",
          "text": [
            "Mounted at /content/gdrive\n"
          ],
          "name": "stdout"
        }
      ]
    },
    {
      "cell_type": "code",
      "metadata": {
        "dc": {
          "key": "3"
        },
        "tags": [
          "sample_code"
        ],
        "id": "y2d89E8bWOpn",
        "colab_type": "code",
        "colab": {
          "base_uri": "https://localhost:8080/",
          "height": 581
        },
        "outputId": "c8abba0b-bd51-4b96-fae8-285697e8a778"
      },
      "source": [
        "# Loading in required libraries/\n",
        "# ... YOUR CODE FOR TASK 1 ...\n",
        "import pandas as pd\n",
        "import seaborn as sns\n",
        "import numpy as np\n",
        "\n",
        "# Reading in the Nobel Prize data\n",
        "nobel = pd.read_csv('/content/gdrive/My Drive/nobel_new.csv')\n",
        "\n",
        "# Taking a look at the first several winners\n",
        "# ... YOUR CODE FOR TASK 1 ...\n",
        "nobel.head(6)"
      ],
      "execution_count": 3,
      "outputs": [
        {
          "output_type": "execute_result",
          "data": {
            "text/html": [
              "<div>\n",
              "<style scoped>\n",
              "    .dataframe tbody tr th:only-of-type {\n",
              "        vertical-align: middle;\n",
              "    }\n",
              "\n",
              "    .dataframe tbody tr th {\n",
              "        vertical-align: top;\n",
              "    }\n",
              "\n",
              "    .dataframe thead th {\n",
              "        text-align: right;\n",
              "    }\n",
              "</style>\n",
              "<table border=\"1\" class=\"dataframe\">\n",
              "  <thead>\n",
              "    <tr style=\"text-align: right;\">\n",
              "      <th></th>\n",
              "      <th>year</th>\n",
              "      <th>category</th>\n",
              "      <th>prize</th>\n",
              "      <th>motivation</th>\n",
              "      <th>prize_share</th>\n",
              "      <th>laureate_id</th>\n",
              "      <th>laureate_type</th>\n",
              "      <th>full_name</th>\n",
              "      <th>birth_date</th>\n",
              "      <th>birth_city</th>\n",
              "      <th>birth_country</th>\n",
              "      <th>sex</th>\n",
              "      <th>organization_name</th>\n",
              "      <th>organization_city</th>\n",
              "      <th>organization_country</th>\n",
              "      <th>death_date</th>\n",
              "      <th>death_city</th>\n",
              "      <th>death_country</th>\n",
              "    </tr>\n",
              "  </thead>\n",
              "  <tbody>\n",
              "    <tr>\n",
              "      <th>0</th>\n",
              "      <td>1901</td>\n",
              "      <td>Chemistry</td>\n",
              "      <td>The Nobel Prize in Chemistry 1901</td>\n",
              "      <td>\"in recognition of the extraordinary services ...</td>\n",
              "      <td>1/1</td>\n",
              "      <td>160</td>\n",
              "      <td>Individual</td>\n",
              "      <td>Jacobus Henricus van 't Hoff</td>\n",
              "      <td>1852-08-30</td>\n",
              "      <td>Rotterdam</td>\n",
              "      <td>Netherlands</td>\n",
              "      <td>Male</td>\n",
              "      <td>Berlin University</td>\n",
              "      <td>Berlin</td>\n",
              "      <td>Germany</td>\n",
              "      <td>1911-03-01</td>\n",
              "      <td>Berlin</td>\n",
              "      <td>Germany</td>\n",
              "    </tr>\n",
              "    <tr>\n",
              "      <th>1</th>\n",
              "      <td>1901</td>\n",
              "      <td>Literature</td>\n",
              "      <td>The Nobel Prize in Literature 1901</td>\n",
              "      <td>\"in special recognition of his poetic composit...</td>\n",
              "      <td>1/1</td>\n",
              "      <td>569</td>\n",
              "      <td>Individual</td>\n",
              "      <td>Sully Prudhomme</td>\n",
              "      <td>1839-03-16</td>\n",
              "      <td>Paris</td>\n",
              "      <td>France</td>\n",
              "      <td>Male</td>\n",
              "      <td>NaN</td>\n",
              "      <td>NaN</td>\n",
              "      <td>NaN</td>\n",
              "      <td>1907-09-07</td>\n",
              "      <td>Châtenay</td>\n",
              "      <td>France</td>\n",
              "    </tr>\n",
              "    <tr>\n",
              "      <th>2</th>\n",
              "      <td>1901</td>\n",
              "      <td>Medicine</td>\n",
              "      <td>The Nobel Prize in Physiology or Medicine 1901</td>\n",
              "      <td>\"for his work on serum therapy, especially its...</td>\n",
              "      <td>1/1</td>\n",
              "      <td>293</td>\n",
              "      <td>Individual</td>\n",
              "      <td>Emil Adolf von Behring</td>\n",
              "      <td>1854-03-15</td>\n",
              "      <td>Hansdorf (Lawice)</td>\n",
              "      <td>Prussia (Poland)</td>\n",
              "      <td>Male</td>\n",
              "      <td>Marburg University</td>\n",
              "      <td>Marburg</td>\n",
              "      <td>Germany</td>\n",
              "      <td>1917-03-31</td>\n",
              "      <td>Marburg</td>\n",
              "      <td>Germany</td>\n",
              "    </tr>\n",
              "    <tr>\n",
              "      <th>3</th>\n",
              "      <td>1901</td>\n",
              "      <td>Peace</td>\n",
              "      <td>The Nobel Peace Prize 1901</td>\n",
              "      <td>NaN</td>\n",
              "      <td>1/2</td>\n",
              "      <td>462</td>\n",
              "      <td>Individual</td>\n",
              "      <td>Jean Henry Dunant</td>\n",
              "      <td>1828-05-08</td>\n",
              "      <td>Geneva</td>\n",
              "      <td>Switzerland</td>\n",
              "      <td>Male</td>\n",
              "      <td>NaN</td>\n",
              "      <td>NaN</td>\n",
              "      <td>NaN</td>\n",
              "      <td>1910-10-30</td>\n",
              "      <td>Heiden</td>\n",
              "      <td>Switzerland</td>\n",
              "    </tr>\n",
              "    <tr>\n",
              "      <th>4</th>\n",
              "      <td>1901</td>\n",
              "      <td>Peace</td>\n",
              "      <td>The Nobel Peace Prize 1901</td>\n",
              "      <td>NaN</td>\n",
              "      <td>1/2</td>\n",
              "      <td>463</td>\n",
              "      <td>Individual</td>\n",
              "      <td>Frédéric Passy</td>\n",
              "      <td>1822-05-20</td>\n",
              "      <td>Paris</td>\n",
              "      <td>France</td>\n",
              "      <td>Male</td>\n",
              "      <td>NaN</td>\n",
              "      <td>NaN</td>\n",
              "      <td>NaN</td>\n",
              "      <td>1912-06-12</td>\n",
              "      <td>Paris</td>\n",
              "      <td>France</td>\n",
              "    </tr>\n",
              "    <tr>\n",
              "      <th>5</th>\n",
              "      <td>1901</td>\n",
              "      <td>Physics</td>\n",
              "      <td>The Nobel Prize in Physics 1901</td>\n",
              "      <td>\"in recognition of the extraordinary services ...</td>\n",
              "      <td>1/1</td>\n",
              "      <td>1</td>\n",
              "      <td>Individual</td>\n",
              "      <td>Wilhelm Conrad Röntgen</td>\n",
              "      <td>1845-03-27</td>\n",
              "      <td>Lennep (Remscheid)</td>\n",
              "      <td>Prussia (Germany)</td>\n",
              "      <td>Male</td>\n",
              "      <td>Munich University</td>\n",
              "      <td>Munich</td>\n",
              "      <td>Germany</td>\n",
              "      <td>1923-02-10</td>\n",
              "      <td>Munich</td>\n",
              "      <td>Germany</td>\n",
              "    </tr>\n",
              "  </tbody>\n",
              "</table>\n",
              "</div>"
            ],
            "text/plain": [
              "   year    category  ... death_city death_country\n",
              "0  1901   Chemistry  ...     Berlin       Germany\n",
              "1  1901  Literature  ...   Châtenay        France\n",
              "2  1901    Medicine  ...    Marburg       Germany\n",
              "3  1901       Peace  ...     Heiden   Switzerland\n",
              "4  1901       Peace  ...      Paris        France\n",
              "5  1901     Physics  ...     Munich       Germany\n",
              "\n",
              "[6 rows x 18 columns]"
            ]
          },
          "metadata": {
            "tags": []
          },
          "execution_count": 3
        }
      ]
    },
    {
      "cell_type": "markdown",
      "metadata": {
        "dc": {
          "key": "10"
        },
        "deletable": false,
        "editable": false,
        "run_control": {
          "frozen": true
        },
        "tags": [
          "context"
        ],
        "id": "DUND709yWOpt",
        "colab_type": "text"
      },
      "source": [
        "## 2. So, who gets the Nobel Prize?\n",
        "<p>Just looking at the first couple of prize winners, or Nobel laureates as they are also called, we already see a celebrity: Wilhelm Conrad Röntgen, the guy who discovered X-rays. And actually, we see that all of the winners in 1901 were guys that came from Europe. But that was back in 1901, looking at all winners in the dataset, from 1901 to 2016, which sex and which country is the most commonly represented? </p>\n",
        "<p>(For <em>country</em>, we will use the <code>birth_country</code> of the winner, as the <code>organization_country</code> is <code>NaN</code> for all shared Nobel Prizes.)</p>"
      ]
    },
    {
      "cell_type": "markdown",
      "metadata": {
        "id": "OBBnRqfbWOpu",
        "colab_type": "text"
      },
      "source": [
        "---------------------------------------------------\n",
        "Count up the Nobel Prizes. Also, split by sex and birth_country.\n",
        "\n",
        "- Count the number of rows/prizes using the len() function. Use the display() function to display the result.\n",
        "- Count and display the number of prizes for each sex using the value_counts() method.\n",
        "- Count the number of prizes for each birth_country using value_counts() and show the top 10 using head(). Do not use display().\n",
        "\n",
        "#### Note: a test in this task relies on the expected last output of this cell based on the order of the instructions. If this is not the case, you may run into the following error after ten seconds of the cell being processed: \"Your code exceeded the maximum run time permitted.\"\n",
        "\n",
        "By default, a Jupyter Notebook (which is where you are working right now) will only show the final output in a cell. If you want to show intermediate results, you will have to use the display() function. See here for an example of how to use value_counts().\n",
        "\n",
        "Why display() over print()? Try them both out for yourself. You'll find that the output of display() is prettier. :)\n",
        "\n",
        "----------------------------------------------"
      ]
    },
    {
      "cell_type": "code",
      "metadata": {
        "dc": {
          "key": "10"
        },
        "tags": [
          "sample_code"
        ],
        "id": "xWXRgXTJWOpv",
        "colab_type": "code",
        "colab": {
          "base_uri": "https://localhost:8080/",
          "height": 316
        },
        "outputId": "ad8832c6-84ba-4bcd-af47-519b4df4d814"
      },
      "source": [
        "# Display the number of (possibly shared) Nobel Prizes handed\n",
        "# out between 1901 and 2016\n",
        "# ... YOUR CODE FOR TASK 2 ...\n",
        "display(len(nobel['prize'].unique()))\n",
        "print()\n",
        "# Display the number of prizes won by male and female recipients.\n",
        "# ... YOUR CODE FOR TASK 2 ...\n",
        "display(nobel['sex'].value_counts())\n",
        "print()\n",
        "# Display the number of prizes won by the top 10 nationalities.\n",
        "# ... YOUR CODE FOR TASK 2 ...\n",
        "display(nobel['birth_country'].value_counts().head(10))"
      ],
      "execution_count": 5,
      "outputs": [
        {
          "output_type": "display_data",
          "data": {
            "text/plain": [
              "579"
            ]
          },
          "metadata": {
            "tags": []
          }
        },
        {
          "output_type": "stream",
          "text": [
            "\n"
          ],
          "name": "stdout"
        },
        {
          "output_type": "display_data",
          "data": {
            "text/plain": [
              "Male      836\n",
              "Female     49\n",
              "Name: sex, dtype: int64"
            ]
          },
          "metadata": {
            "tags": []
          }
        },
        {
          "output_type": "stream",
          "text": [
            "\n"
          ],
          "name": "stdout"
        },
        {
          "output_type": "display_data",
          "data": {
            "text/plain": [
              "United States of America    259\n",
              "United Kingdom               85\n",
              "Germany                      61\n",
              "France                       51\n",
              "Sweden                       29\n",
              "Japan                        24\n",
              "Canada                       18\n",
              "Netherlands                  18\n",
              "Italy                        17\n",
              "Russia                       17\n",
              "Name: birth_country, dtype: int64"
            ]
          },
          "metadata": {
            "tags": []
          }
        }
      ]
    },
    {
      "cell_type": "markdown",
      "metadata": {
        "dc": {
          "key": "17"
        },
        "deletable": false,
        "editable": false,
        "run_control": {
          "frozen": true
        },
        "tags": [
          "context"
        ],
        "id": "f2myDWcaWOpy",
        "colab_type": "text"
      },
      "source": [
        "## 3. USA dominance\n",
        "<p>Not so surprising perhaps: the most common Nobel laureate between 1901 and 2016 was a man born in the United States of America. But in 1901 all the winners were European. When did the USA start to dominate the Nobel Prize charts?</p>"
      ]
    },
    {
      "cell_type": "markdown",
      "metadata": {
        "id": "H67xnkwDWOpy",
        "colab_type": "text"
      },
      "source": [
        "Create a DataFrame with two columns: decade and proportion of USA-born Nobel Prize winners that decade.\n",
        "\n",
        "- Add a usa_born_winner column to nobel, where the value is True when birth_country is \"United States of America\".\n",
        "- Add a decade column to nobel for the decade each prize was awarded. Here, np.floor() will come in handy. Ensure the decade column is of type int64.\n",
        "- Use groupby to group by decade, setting as_index=False. Then isolate the usa_born_winner column and take the mean(). Assign the resulting DataFrame to prop_usa_winners.\n",
        "- Display prop_usa_winners.\n",
        "\n",
        "For the decade column, 1953 should become 1950, for example. Calculating this column is a bit tricky, but try to see if you can solve it using the np.floor function.\n",
        "\n",
        "By setting as_index=False, you make sure that both the grouping variable and the calculated mean are included in the resulting DataFrame.\n",
        "\n",
        "---------------------------------------"
      ]
    },
    {
      "cell_type": "code",
      "metadata": {
        "dc": {
          "key": "17"
        },
        "tags": [
          "sample_code"
        ],
        "id": "2JT5b_VCWOpz",
        "colab_type": "code",
        "colab": {
          "base_uri": "https://localhost:8080/",
          "height": 402
        },
        "outputId": "e51bc245-0db4-4e0a-9c0b-240a555508c4"
      },
      "source": [
        "# Calculating the proportion of USA born winners per decade\n",
        "nobel['usa_born_winner'] = nobel['birth_country']=='United States of America'\n",
        "nobel['decade'] = np.floor(nobel['year']/10)*10\n",
        "nobel['decade']=nobel['decade'].astype('int64')\n",
        "prop_usa_winners = nobel.groupby(\"decade\",as_index=False)['usa_born_winner'].mean()\n",
        "\n",
        "# Display the proportions of USA born winners per decade\n",
        "# ... YOUR CODE FOR TASK 3 ...\n",
        "display(prop_usa_winners)"
      ],
      "execution_count": 6,
      "outputs": [
        {
          "output_type": "display_data",
          "data": {
            "text/html": [
              "<div>\n",
              "<style scoped>\n",
              "    .dataframe tbody tr th:only-of-type {\n",
              "        vertical-align: middle;\n",
              "    }\n",
              "\n",
              "    .dataframe tbody tr th {\n",
              "        vertical-align: top;\n",
              "    }\n",
              "\n",
              "    .dataframe thead th {\n",
              "        text-align: right;\n",
              "    }\n",
              "</style>\n",
              "<table border=\"1\" class=\"dataframe\">\n",
              "  <thead>\n",
              "    <tr style=\"text-align: right;\">\n",
              "      <th></th>\n",
              "      <th>decade</th>\n",
              "      <th>usa_born_winner</th>\n",
              "    </tr>\n",
              "  </thead>\n",
              "  <tbody>\n",
              "    <tr>\n",
              "      <th>0</th>\n",
              "      <td>1900</td>\n",
              "      <td>0.017544</td>\n",
              "    </tr>\n",
              "    <tr>\n",
              "      <th>1</th>\n",
              "      <td>1910</td>\n",
              "      <td>0.075000</td>\n",
              "    </tr>\n",
              "    <tr>\n",
              "      <th>2</th>\n",
              "      <td>1920</td>\n",
              "      <td>0.074074</td>\n",
              "    </tr>\n",
              "    <tr>\n",
              "      <th>3</th>\n",
              "      <td>1930</td>\n",
              "      <td>0.250000</td>\n",
              "    </tr>\n",
              "    <tr>\n",
              "      <th>4</th>\n",
              "      <td>1940</td>\n",
              "      <td>0.302326</td>\n",
              "    </tr>\n",
              "    <tr>\n",
              "      <th>5</th>\n",
              "      <td>1950</td>\n",
              "      <td>0.291667</td>\n",
              "    </tr>\n",
              "    <tr>\n",
              "      <th>6</th>\n",
              "      <td>1960</td>\n",
              "      <td>0.265823</td>\n",
              "    </tr>\n",
              "    <tr>\n",
              "      <th>7</th>\n",
              "      <td>1970</td>\n",
              "      <td>0.317308</td>\n",
              "    </tr>\n",
              "    <tr>\n",
              "      <th>8</th>\n",
              "      <td>1980</td>\n",
              "      <td>0.319588</td>\n",
              "    </tr>\n",
              "    <tr>\n",
              "      <th>9</th>\n",
              "      <td>1990</td>\n",
              "      <td>0.403846</td>\n",
              "    </tr>\n",
              "    <tr>\n",
              "      <th>10</th>\n",
              "      <td>2000</td>\n",
              "      <td>0.422764</td>\n",
              "    </tr>\n",
              "    <tr>\n",
              "      <th>11</th>\n",
              "      <td>2010</td>\n",
              "      <td>0.292683</td>\n",
              "    </tr>\n",
              "  </tbody>\n",
              "</table>\n",
              "</div>"
            ],
            "text/plain": [
              "    decade  usa_born_winner\n",
              "0     1900         0.017544\n",
              "1     1910         0.075000\n",
              "2     1920         0.074074\n",
              "3     1930         0.250000\n",
              "4     1940         0.302326\n",
              "5     1950         0.291667\n",
              "6     1960         0.265823\n",
              "7     1970         0.317308\n",
              "8     1980         0.319588\n",
              "9     1990         0.403846\n",
              "10    2000         0.422764\n",
              "11    2010         0.292683"
            ]
          },
          "metadata": {
            "tags": []
          }
        }
      ]
    },
    {
      "cell_type": "markdown",
      "metadata": {
        "dc": {
          "key": "24"
        },
        "deletable": false,
        "editable": false,
        "run_control": {
          "frozen": true
        },
        "tags": [
          "context"
        ],
        "id": "Gs1aDboIWOp2",
        "colab_type": "text"
      },
      "source": [
        "## 4. USA dominance, visualized\n",
        "<p>A table is OK, but to <em>see</em> when the USA started to dominate the Nobel charts we need a plot!</p>"
      ]
    },
    {
      "cell_type": "markdown",
      "metadata": {
        "id": "_taD-fEtWOp3",
        "colab_type": "text"
      },
      "source": [
        "---------------------------------------\n",
        "Plot the proportion of USA born winners per decade.\n",
        "\n",
        "- Use seaborn to plot prop_usa_winners with decade on the x-axis and usa_born_winner on the y-axis as an sns.lineplot. Assign the plot to ax.\n",
        "- Fix the y-scale so that it shows percentages using PercentFormatter.\n",
        "\n",
        "-----------------------------------"
      ]
    },
    {
      "cell_type": "code",
      "metadata": {
        "dc": {
          "key": "24"
        },
        "tags": [
          "sample_code"
        ],
        "id": "REtdCN-kWOp3",
        "colab_type": "code",
        "colab": {
          "base_uri": "https://localhost:8080/",
          "height": 448
        },
        "outputId": "49543ce5-548f-48c7-fe38-a8a607a2ff5f"
      },
      "source": [
        "# Setting the plotting theme\n",
        "sns.set()\n",
        "# and setting the size of all plots.\n",
        "import matplotlib.pyplot as plt\n",
        "plt.rcParams['figure.figsize'] = [11, 7]\n",
        "\n",
        "# Plotting USA born winners \n",
        "ax = sns.lineplot(x=prop_usa_winners['decade'],y=prop_usa_winners['usa_born_winner'])\n",
        "\n",
        "# Adding %-formatting to the y-axis\n",
        "from matplotlib.ticker import PercentFormatter\n",
        "# ... YOUR CODE FOR TASK 4 ...\n",
        "ax.yaxis.set_major_formatter(PercentFormatter(1))  \n",
        "plt.show()"
      ],
      "execution_count": 7,
      "outputs": [
        {
          "output_type": "display_data",
          "data": {
            "image/png": "[encoded data removed]",
            "text/plain": [
              "<Figure size 792x504 with 1 Axes>"
            ]
          },
          "metadata": {
            "tags": []
          }
        }
      ]
    },
    {
      "cell_type": "markdown",
      "metadata": {
        "dc": {
          "key": "31"
        },
        "deletable": false,
        "editable": false,
        "run_control": {
          "frozen": true
        },
        "tags": [
          "context"
        ],
        "id": "8BFylO9hWOp6",
        "colab_type": "text"
      },
      "source": [
        "## 5. What is the gender of a typical Nobel Prize winner?\n",
        "<p>So the USA became the dominating winner of the Nobel Prize first in the 1930s and had kept the leading position ever since. But one group that was in the lead from the start, and never seems to let go, are <em>men</em>. Maybe it shouldn't come as a shock that there is some imbalance between how many male and female prize winners there are, but how significant is this imbalance? And is it better or worse within specific prize categories like physics, medicine, literature, etc.?</p>"
      ]
    },
    {
      "cell_type": "markdown",
      "metadata": {
        "id": "2M4y-iYLWOp7",
        "colab_type": "text"
      },
      "source": [
        "--------------------------------------------\n",
        "Plot the proportion of female laureates by decade split by prize category.\n",
        "\n",
        "- Add the female_winner column to nobel, where the value is True when sex is \"Female\".\n",
        "- Use groupby to group by both decade and category, setting as_index=False. Then isolate the female_winner column and take the mean(). Assign the resulting DataFrame to prop_female_winners.\n",
        "- Copy and paste your seaborn plot from task 4 (including axis formatting code), but plot prop_female_winners and map the category variable to the hue parameter.\n",
        "\n",
        "This task can be solved by copying and modifying the code from task 3 and 4.\n",
        "\n",
        "-------------------------"
      ]
    },
    {
      "cell_type": "code",
      "metadata": {
        "dc": {
          "key": "31"
        },
        "tags": [
          "sample_code"
        ],
        "id": "NsILtBM4WOp7",
        "colab_type": "code",
        "colab": {
          "base_uri": "https://localhost:8080/",
          "height": 833
        },
        "outputId": "72edb792-e8e6-47eb-eff6-f7edfd5a71c1"
      },
      "source": [
        "# Calculating the proportion of female laureates per decade\n",
        "nobel['female_winner'] = nobel['sex']=='Female'\n",
        "prop_female_winners = nobel.groupby(['decade','category'],as_index=False)['female_winner'].mean()\n",
        "display(prop_female_winners)\n",
        "\n",
        "# Plotting USA born winners with % winners on the y-axis\n",
        "# ... YOUR CODE FOR TASK 5 ...\n",
        "plt.rcParams['figure.figsize'] = [11, 7]\n",
        "ax = sns.lineplot(x=prop_female_winners['decade'],y=prop_female_winners['female_winner'],hue=prop_female_winners['category'])\n",
        "ax.yaxis.set_major_formatter(PercentFormatter(1))  \n"
      ],
      "execution_count": 8,
      "outputs": [
        {
          "output_type": "display_data",
          "data": {
            "text/html": [
              "<div>\n",
              "<style scoped>\n",
              "    .dataframe tbody tr th:only-of-type {\n",
              "        vertical-align: middle;\n",
              "    }\n",
              "\n",
              "    .dataframe tbody tr th {\n",
              "        vertical-align: top;\n",
              "    }\n",
              "\n",
              "    .dataframe thead th {\n",
              "        text-align: right;\n",
              "    }\n",
              "</style>\n",
              "<table border=\"1\" class=\"dataframe\">\n",
              "  <thead>\n",
              "    <tr style=\"text-align: right;\">\n",
              "      <th></th>\n",
              "      <th>decade</th>\n",
              "      <th>category</th>\n",
              "      <th>female_winner</th>\n",
              "    </tr>\n",
              "  </thead>\n",
              "  <tbody>\n",
              "    <tr>\n",
              "      <th>0</th>\n",
              "      <td>1900</td>\n",
              "      <td>Chemistry</td>\n",
              "      <td>0.000000</td>\n",
              "    </tr>\n",
              "    <tr>\n",
              "      <th>1</th>\n",
              "      <td>1900</td>\n",
              "      <td>Literature</td>\n",
              "      <td>0.100000</td>\n",
              "    </tr>\n",
              "    <tr>\n",
              "      <th>2</th>\n",
              "      <td>1900</td>\n",
              "      <td>Medicine</td>\n",
              "      <td>0.000000</td>\n",
              "    </tr>\n",
              "    <tr>\n",
              "      <th>3</th>\n",
              "      <td>1900</td>\n",
              "      <td>Peace</td>\n",
              "      <td>0.071429</td>\n",
              "    </tr>\n",
              "    <tr>\n",
              "      <th>4</th>\n",
              "      <td>1900</td>\n",
              "      <td>Physics</td>\n",
              "      <td>0.076923</td>\n",
              "    </tr>\n",
              "    <tr>\n",
              "      <th>...</th>\n",
              "      <td>...</td>\n",
              "      <td>...</td>\n",
              "      <td>...</td>\n",
              "    </tr>\n",
              "    <tr>\n",
              "      <th>61</th>\n",
              "      <td>2010</td>\n",
              "      <td>Economics</td>\n",
              "      <td>0.000000</td>\n",
              "    </tr>\n",
              "    <tr>\n",
              "      <th>62</th>\n",
              "      <td>2010</td>\n",
              "      <td>Literature</td>\n",
              "      <td>0.285714</td>\n",
              "    </tr>\n",
              "    <tr>\n",
              "      <th>63</th>\n",
              "      <td>2010</td>\n",
              "      <td>Medicine</td>\n",
              "      <td>0.125000</td>\n",
              "    </tr>\n",
              "    <tr>\n",
              "      <th>64</th>\n",
              "      <td>2010</td>\n",
              "      <td>Peace</td>\n",
              "      <td>0.400000</td>\n",
              "    </tr>\n",
              "    <tr>\n",
              "      <th>65</th>\n",
              "      <td>2010</td>\n",
              "      <td>Physics</td>\n",
              "      <td>0.000000</td>\n",
              "    </tr>\n",
              "  </tbody>\n",
              "</table>\n",
              "<p>66 rows × 3 columns</p>\n",
              "</div>"
            ],
            "text/plain": [
              "    decade    category  female_winner\n",
              "0     1900   Chemistry       0.000000\n",
              "1     1900  Literature       0.100000\n",
              "2     1900    Medicine       0.000000\n",
              "3     1900       Peace       0.071429\n",
              "4     1900     Physics       0.076923\n",
              "..     ...         ...            ...\n",
              "61    2010   Economics       0.000000\n",
              "62    2010  Literature       0.285714\n",
              "63    2010    Medicine       0.125000\n",
              "64    2010       Peace       0.400000\n",
              "65    2010     Physics       0.000000\n",
              "\n",
              "[66 rows x 3 columns]"
            ]
          },
          "metadata": {
            "tags": []
          }
        },
        {
          "output_type": "display_data",
          "data": {
            "image/png": "[encoded data removed]",
            "text/plain": [
              "<Figure size 792x504 with 1 Axes>"
            ]
          },
          "metadata": {
            "tags": []
          }
        }
      ]
    },
    {
      "cell_type": "markdown",
      "metadata": {
        "dc": {
          "key": "38"
        },
        "deletable": false,
        "editable": false,
        "run_control": {
          "frozen": true
        },
        "tags": [
          "context"
        ],
        "id": "OxZPZJCpWOqB",
        "colab_type": "text"
      },
      "source": [
        "## 6. The first woman to win the Nobel Prize\n",
        "<p>The plot above is a bit messy as the lines are overplotting. But it does show some interesting trends and patterns. Overall the imbalance is pretty large with physics, economics, and chemistry having the largest imbalance. Medicine has a somewhat positive trend, and since the 1990s the literature prize is also now more balanced. The big outlier is the peace prize during the 2010s, but keep in mind that this just covers the years 2010 to 2016.</p>\n",
        "<p>Given this imbalance, who was the first woman to receive a Nobel Prize? And in what category?</p>"
      ]
    },
    {
      "cell_type": "markdown",
      "metadata": {
        "id": "-trHIr90WOqC",
        "colab_type": "text"
      },
      "source": [
        "----------------------------------------\n",
        "Extract and display the row showing the first woman to win a Nobel Prize.\n",
        "\n",
        "- Select only the rows of 'Female' winners in nobel.\n",
        "- Using the nsmallest() method with its n and columns parameters, pick out the first woman to get a Nobel Prize.\n",
        "\n",
        "#### Note: a test in this task relies on the expected last output of this cell based on the order of the instructions. If this is not the case, you may run into the following error after ten seconds of the cell being processed: \"Your code exceeded the maximum run time permitted.\"\n",
        "\n",
        "----------------------------"
      ]
    },
    {
      "cell_type": "code",
      "metadata": {
        "dc": {
          "key": "38"
        },
        "tags": [
          "sample_code"
        ],
        "id": "1dSmXIisWOqD",
        "colab_type": "code",
        "colab": {
          "base_uri": "https://localhost:8080/",
          "height": 181
        },
        "outputId": "997a202b-a66e-4830-e20c-7b35f873475a"
      },
      "source": [
        "# Picking out the first woman to win a Nobel Prize\n",
        "# ... YOUR CODE FOR TASK 5 ...\n",
        "female_nobel = nobel[nobel['sex']=='Female']\n",
        "female_nobel.nsmallest(1, 'year')"
      ],
      "execution_count": 9,
      "outputs": [
        {
          "output_type": "execute_result",
          "data": {
            "text/html": [
              "<div>\n",
              "<style scoped>\n",
              "    .dataframe tbody tr th:only-of-type {\n",
              "        vertical-align: middle;\n",
              "    }\n",
              "\n",
              "    .dataframe tbody tr th {\n",
              "        vertical-align: top;\n",
              "    }\n",
              "\n",
              "    .dataframe thead th {\n",
              "        text-align: right;\n",
              "    }\n",
              "</style>\n",
              "<table border=\"1\" class=\"dataframe\">\n",
              "  <thead>\n",
              "    <tr style=\"text-align: right;\">\n",
              "      <th></th>\n",
              "      <th>year</th>\n",
              "      <th>category</th>\n",
              "      <th>prize</th>\n",
              "      <th>motivation</th>\n",
              "      <th>prize_share</th>\n",
              "      <th>laureate_id</th>\n",
              "      <th>laureate_type</th>\n",
              "      <th>full_name</th>\n",
              "      <th>birth_date</th>\n",
              "      <th>birth_city</th>\n",
              "      <th>birth_country</th>\n",
              "      <th>sex</th>\n",
              "      <th>organization_name</th>\n",
              "      <th>organization_city</th>\n",
              "      <th>organization_country</th>\n",
              "      <th>death_date</th>\n",
              "      <th>death_city</th>\n",
              "      <th>death_country</th>\n",
              "      <th>usa_born_winner</th>\n",
              "      <th>decade</th>\n",
              "      <th>female_winner</th>\n",
              "    </tr>\n",
              "  </thead>\n",
              "  <tbody>\n",
              "    <tr>\n",
              "      <th>19</th>\n",
              "      <td>1903</td>\n",
              "      <td>Physics</td>\n",
              "      <td>The Nobel Prize in Physics 1903</td>\n",
              "      <td>\"in recognition of the extraordinary services ...</td>\n",
              "      <td>1/4</td>\n",
              "      <td>6</td>\n",
              "      <td>Individual</td>\n",
              "      <td>Marie Curie, née Sklodowska</td>\n",
              "      <td>1867-11-07</td>\n",
              "      <td>Warsaw</td>\n",
              "      <td>Russian Empire (Poland)</td>\n",
              "      <td>Female</td>\n",
              "      <td>NaN</td>\n",
              "      <td>NaN</td>\n",
              "      <td>NaN</td>\n",
              "      <td>1934-07-04</td>\n",
              "      <td>Sallanches</td>\n",
              "      <td>France</td>\n",
              "      <td>False</td>\n",
              "      <td>1900</td>\n",
              "      <td>True</td>\n",
              "    </tr>\n",
              "  </tbody>\n",
              "</table>\n",
              "</div>"
            ],
            "text/plain": [
              "    year category  ... decade female_winner\n",
              "19  1903  Physics  ...   1900          True\n",
              "\n",
              "[1 rows x 21 columns]"
            ]
          },
          "metadata": {
            "tags": []
          },
          "execution_count": 9
        }
      ]
    },
    {
      "cell_type": "markdown",
      "metadata": {
        "dc": {
          "key": "45"
        },
        "deletable": false,
        "editable": false,
        "run_control": {
          "frozen": true
        },
        "tags": [
          "context"
        ],
        "id": "RKSM1XT0WOqJ",
        "colab_type": "text"
      },
      "source": [
        "## 7. Repeat laureates\n",
        "<p>For most scientists/writers/activists a Nobel Prize would be the crowning achievement of a long career. But for some people, one is just not enough, and few have gotten it more than once. Who are these lucky few? (Having won no Nobel Prize myself, I'll assume it's just about luck.)</p>"
      ]
    },
    {
      "cell_type": "markdown",
      "metadata": {
        "id": "96OBUTZjWOqK",
        "colab_type": "text"
      },
      "source": [
        "-------------------------------------------\n",
        "Extract and display the rows of repeat Nobel Prize winners.\n",
        "\n",
        "- Use groupby to group nobel by 'full_name'.\n",
        "- Use the filter method to keep only those rows in nobel with winners with 2 or more prizes.\n",
        "\n",
        "#### Note: a test in this task relies on the expected last output of this cell based on the order of the instructions. If this is not the case, you may run into the following error after ten seconds of the cell being processed: \"Your code exceeded the maximum run time permitted.\"\n",
        "\n",
        "--------------------------------------------------------------"
      ]
    },
    {
      "cell_type": "code",
      "metadata": {
        "dc": {
          "key": "45"
        },
        "tags": [
          "sample_code"
        ],
        "id": "PcbeH4ZYWOqK",
        "colab_type": "code",
        "colab": {
          "base_uri": "https://localhost:8080/",
          "height": 1000
        },
        "outputId": "f1bf1957-74da-41df-9299-bcc002cf8eb5"
      },
      "source": [
        "# Selecting the laureates that have received 2 or more prizes.\n",
        "# ... YOUR CODE FOR TASK 5 ...\n",
        "nobel.groupby('Full Name').filter(lambda x: len(x)>=2)"
      ],
      "execution_count": null,
      "outputs": [
        {
          "output_type": "execute_result",
          "data": {
            "text/html": [
              "<div>\n",
              "<style scoped>\n",
              "    .dataframe tbody tr th:only-of-type {\n",
              "        vertical-align: middle;\n",
              "    }\n",
              "\n",
              "    .dataframe tbody tr th {\n",
              "        vertical-align: top;\n",
              "    }\n",
              "\n",
              "    .dataframe thead th {\n",
              "        text-align: right;\n",
              "    }\n",
              "</style>\n",
              "<table border=\"1\" class=\"dataframe\">\n",
              "  <thead>\n",
              "    <tr style=\"text-align: right;\">\n",
              "      <th></th>\n",
              "      <th>Year</th>\n",
              "      <th>Category</th>\n",
              "      <th>Prize</th>\n",
              "      <th>Motivation</th>\n",
              "      <th>Prize Share</th>\n",
              "      <th>Laureate ID</th>\n",
              "      <th>Laureate Type</th>\n",
              "      <th>Full Name</th>\n",
              "      <th>Birth Date</th>\n",
              "      <th>Birth City</th>\n",
              "      <th>Birth Country</th>\n",
              "      <th>Sex</th>\n",
              "      <th>Organization Name</th>\n",
              "      <th>Organization City</th>\n",
              "      <th>Organization Country</th>\n",
              "      <th>Death Date</th>\n",
              "      <th>Death City</th>\n",
              "      <th>Death Country</th>\n",
              "      <th>usa_born_winner</th>\n",
              "      <th>decade</th>\n",
              "      <th>female_winner</th>\n",
              "    </tr>\n",
              "  </thead>\n",
              "  <tbody>\n",
              "    <tr>\n",
              "      <th>19</th>\n",
              "      <td>1903</td>\n",
              "      <td>Physics</td>\n",
              "      <td>The Nobel Prize in Physics 1903</td>\n",
              "      <td>\"in recognition of the extraordinary services ...</td>\n",
              "      <td>1/4</td>\n",
              "      <td>6</td>\n",
              "      <td>Individual</td>\n",
              "      <td>Marie Curie, née Sklodowska</td>\n",
              "      <td>1867-11-07</td>\n",
              "      <td>Warsaw</td>\n",
              "      <td>Russian Empire (Poland)</td>\n",
              "      <td>Female</td>\n",
              "      <td>NaN</td>\n",
              "      <td>NaN</td>\n",
              "      <td>NaN</td>\n",
              "      <td>1934-07-04</td>\n",
              "      <td>Sallanches</td>\n",
              "      <td>France</td>\n",
              "      <td>False</td>\n",
              "      <td>1900</td>\n",
              "      <td>True</td>\n",
              "    </tr>\n",
              "    <tr>\n",
              "      <th>46</th>\n",
              "      <td>1908</td>\n",
              "      <td>Medicine</td>\n",
              "      <td>The Nobel Prize in Physiology or Medicine 1908</td>\n",
              "      <td>\"in recognition of their work on immunity\"</td>\n",
              "      <td>1/2</td>\n",
              "      <td>302</td>\n",
              "      <td>Individual</td>\n",
              "      <td>Paul Ehrlich</td>\n",
              "      <td>1854-03-14</td>\n",
              "      <td>Strehlen (Strzelin)</td>\n",
              "      <td>Prussia (Poland)</td>\n",
              "      <td>Male</td>\n",
              "      <td>Goettingen University</td>\n",
              "      <td>Göttingen</td>\n",
              "      <td>Germany</td>\n",
              "      <td>1915-08-20</td>\n",
              "      <td>Bad Homburg vor der Höhe</td>\n",
              "      <td>Germany</td>\n",
              "      <td>False</td>\n",
              "      <td>1900</td>\n",
              "      <td>False</td>\n",
              "    </tr>\n",
              "    <tr>\n",
              "      <th>47</th>\n",
              "      <td>1908</td>\n",
              "      <td>Medicine</td>\n",
              "      <td>The Nobel Prize in Physiology or Medicine 1908</td>\n",
              "      <td>\"in recognition of their work on immunity\"</td>\n",
              "      <td>1/2</td>\n",
              "      <td>302</td>\n",
              "      <td>Individual</td>\n",
              "      <td>Paul Ehrlich</td>\n",
              "      <td>1854-03-14</td>\n",
              "      <td>Strehlen (Strzelin)</td>\n",
              "      <td>Prussia (Poland)</td>\n",
              "      <td>Male</td>\n",
              "      <td>Königliches Institut für experimentelle Therap...</td>\n",
              "      <td>Frankfurt-on-the-Main</td>\n",
              "      <td>Germany</td>\n",
              "      <td>1915-08-20</td>\n",
              "      <td>Bad Homburg vor der Höhe</td>\n",
              "      <td>Germany</td>\n",
              "      <td>False</td>\n",
              "      <td>1900</td>\n",
              "      <td>False</td>\n",
              "    </tr>\n",
              "    <tr>\n",
              "      <th>63</th>\n",
              "      <td>1911</td>\n",
              "      <td>Chemistry</td>\n",
              "      <td>The Nobel Prize in Chemistry 1911</td>\n",
              "      <td>\"in recognition of her services to the advance...</td>\n",
              "      <td>1/1</td>\n",
              "      <td>6</td>\n",
              "      <td>Individual</td>\n",
              "      <td>Marie Curie, née Sklodowska</td>\n",
              "      <td>1867-11-07</td>\n",
              "      <td>Warsaw</td>\n",
              "      <td>Russian Empire (Poland)</td>\n",
              "      <td>Female</td>\n",
              "      <td>Sorbonne University</td>\n",
              "      <td>Paris</td>\n",
              "      <td>France</td>\n",
              "      <td>1934-07-04</td>\n",
              "      <td>Sallanches</td>\n",
              "      <td>France</td>\n",
              "      <td>False</td>\n",
              "      <td>1910</td>\n",
              "      <td>True</td>\n",
              "    </tr>\n",
              "    <tr>\n",
              "      <th>90</th>\n",
              "      <td>1917</td>\n",
              "      <td>Peace</td>\n",
              "      <td>The Nobel Peace Prize 1917</td>\n",
              "      <td>NaN</td>\n",
              "      <td>1/1</td>\n",
              "      <td>482</td>\n",
              "      <td>Organization</td>\n",
              "      <td>Comité international de la Croix Rouge (Intern...</td>\n",
              "      <td>NaN</td>\n",
              "      <td>NaN</td>\n",
              "      <td>NaN</td>\n",
              "      <td>NaN</td>\n",
              "      <td>NaN</td>\n",
              "      <td>NaN</td>\n",
              "      <td>NaN</td>\n",
              "      <td>NaN</td>\n",
              "      <td>NaN</td>\n",
              "      <td>NaN</td>\n",
              "      <td>False</td>\n",
              "      <td>1910</td>\n",
              "      <td>False</td>\n",
              "    </tr>\n",
              "    <tr>\n",
              "      <th>...</th>\n",
              "      <td>...</td>\n",
              "      <td>...</td>\n",
              "      <td>...</td>\n",
              "      <td>...</td>\n",
              "      <td>...</td>\n",
              "      <td>...</td>\n",
              "      <td>...</td>\n",
              "      <td>...</td>\n",
              "      <td>...</td>\n",
              "      <td>...</td>\n",
              "      <td>...</td>\n",
              "      <td>...</td>\n",
              "      <td>...</td>\n",
              "      <td>...</td>\n",
              "      <td>...</td>\n",
              "      <td>...</td>\n",
              "      <td>...</td>\n",
              "      <td>...</td>\n",
              "      <td>...</td>\n",
              "      <td>...</td>\n",
              "      <td>...</td>\n",
              "    </tr>\n",
              "    <tr>\n",
              "      <th>942</th>\n",
              "      <td>2014</td>\n",
              "      <td>Physics</td>\n",
              "      <td>The Nobel Prize in Physics 2014</td>\n",
              "      <td>\"for the invention of efficient blue light-emi...</td>\n",
              "      <td>1/3</td>\n",
              "      <td>906</td>\n",
              "      <td>Individual</td>\n",
              "      <td>Isamu Akasaki</td>\n",
              "      <td>1929-01-30</td>\n",
              "      <td>Chiran</td>\n",
              "      <td>Japan</td>\n",
              "      <td>Male</td>\n",
              "      <td>Nagoya University</td>\n",
              "      <td>Nagoya</td>\n",
              "      <td>Japan</td>\n",
              "      <td>NaN</td>\n",
              "      <td>NaN</td>\n",
              "      <td>NaN</td>\n",
              "      <td>False</td>\n",
              "      <td>2010</td>\n",
              "      <td>False</td>\n",
              "    </tr>\n",
              "    <tr>\n",
              "      <th>945</th>\n",
              "      <td>2015</td>\n",
              "      <td>Chemistry</td>\n",
              "      <td>The Nobel Prize in Chemistry 2015</td>\n",
              "      <td>\"for mechanistic studies of DNA repair\"</td>\n",
              "      <td>1/3</td>\n",
              "      <td>921</td>\n",
              "      <td>Individual</td>\n",
              "      <td>Tomas Lindahl</td>\n",
              "      <td>1938-01-28</td>\n",
              "      <td>Stockholm</td>\n",
              "      <td>Sweden</td>\n",
              "      <td>Male</td>\n",
              "      <td>Francis Crick Institute</td>\n",
              "      <td>Hertfordshire</td>\n",
              "      <td>United Kingdom</td>\n",
              "      <td>NaN</td>\n",
              "      <td>NaN</td>\n",
              "      <td>NaN</td>\n",
              "      <td>False</td>\n",
              "      <td>2010</td>\n",
              "      <td>False</td>\n",
              "    </tr>\n",
              "    <tr>\n",
              "      <th>946</th>\n",
              "      <td>2015</td>\n",
              "      <td>Chemistry</td>\n",
              "      <td>The Nobel Prize in Chemistry 2015</td>\n",
              "      <td>\"for mechanistic studies of DNA repair\"</td>\n",
              "      <td>1/3</td>\n",
              "      <td>921</td>\n",
              "      <td>Individual</td>\n",
              "      <td>Tomas Lindahl</td>\n",
              "      <td>1938-01-28</td>\n",
              "      <td>Stockholm</td>\n",
              "      <td>Sweden</td>\n",
              "      <td>Male</td>\n",
              "      <td>Clare Hall Laboratory</td>\n",
              "      <td>Hertfordshire</td>\n",
              "      <td>United Kingdom</td>\n",
              "      <td>NaN</td>\n",
              "      <td>NaN</td>\n",
              "      <td>NaN</td>\n",
              "      <td>False</td>\n",
              "      <td>2010</td>\n",
              "      <td>False</td>\n",
              "    </tr>\n",
              "    <tr>\n",
              "      <th>947</th>\n",
              "      <td>2015</td>\n",
              "      <td>Chemistry</td>\n",
              "      <td>The Nobel Prize in Chemistry 2015</td>\n",
              "      <td>\"for mechanistic studies of DNA repair\"</td>\n",
              "      <td>1/3</td>\n",
              "      <td>922</td>\n",
              "      <td>Individual</td>\n",
              "      <td>Paul Modrich</td>\n",
              "      <td>1946-06-13</td>\n",
              "      <td>Raton, NM</td>\n",
              "      <td>United States of America</td>\n",
              "      <td>Male</td>\n",
              "      <td>Howard Hughes Medical Institute</td>\n",
              "      <td>Durham, NC</td>\n",
              "      <td>United States of America</td>\n",
              "      <td>NaN</td>\n",
              "      <td>NaN</td>\n",
              "      <td>NaN</td>\n",
              "      <td>True</td>\n",
              "      <td>2010</td>\n",
              "      <td>False</td>\n",
              "    </tr>\n",
              "    <tr>\n",
              "      <th>948</th>\n",
              "      <td>2015</td>\n",
              "      <td>Chemistry</td>\n",
              "      <td>The Nobel Prize in Chemistry 2015</td>\n",
              "      <td>\"for mechanistic studies of DNA repair\"</td>\n",
              "      <td>1/3</td>\n",
              "      <td>922</td>\n",
              "      <td>Individual</td>\n",
              "      <td>Paul Modrich</td>\n",
              "      <td>1946-06-13</td>\n",
              "      <td>Raton, NM</td>\n",
              "      <td>United States of America</td>\n",
              "      <td>Male</td>\n",
              "      <td>Duke University School of Medicine</td>\n",
              "      <td>Durham, NC</td>\n",
              "      <td>United States of America</td>\n",
              "      <td>NaN</td>\n",
              "      <td>NaN</td>\n",
              "      <td>NaN</td>\n",
              "      <td>True</td>\n",
              "      <td>2010</td>\n",
              "      <td>False</td>\n",
              "    </tr>\n",
              "  </tbody>\n",
              "</table>\n",
              "<p>128 rows × 21 columns</p>\n",
              "</div>"
            ],
            "text/plain": [
              "     Year   Category  ... decade female_winner\n",
              "19   1903    Physics  ...   1900          True\n",
              "46   1908   Medicine  ...   1900         False\n",
              "47   1908   Medicine  ...   1900         False\n",
              "63   1911  Chemistry  ...   1910          True\n",
              "90   1917      Peace  ...   1910         False\n",
              "..    ...        ...  ...    ...           ...\n",
              "942  2014    Physics  ...   2010         False\n",
              "945  2015  Chemistry  ...   2010         False\n",
              "946  2015  Chemistry  ...   2010         False\n",
              "947  2015  Chemistry  ...   2010         False\n",
              "948  2015  Chemistry  ...   2010         False\n",
              "\n",
              "[128 rows x 21 columns]"
            ]
          },
          "metadata": {
            "tags": []
          },
          "execution_count": 105
        }
      ]
    },
    {
      "cell_type": "markdown",
      "metadata": {
        "dc": {
          "key": "52"
        },
        "deletable": false,
        "editable": false,
        "run_control": {
          "frozen": true
        },
        "tags": [
          "context"
        ],
        "id": "blaBwyJHWOqN",
        "colab_type": "text"
      },
      "source": [
        "## 8. How old are you when you get the prize?\n",
        "<p>The list of repeat winners contains some illustrious names! We again meet Marie Curie, who got the prize in physics for discovering radiation and in chemistry for isolating radium and polonium. John Bardeen got it twice in physics for transistors and superconductivity, Frederick Sanger got it twice in chemistry, and Linus Carl Pauling got it first in chemistry and later in peace for his work in promoting nuclear disarmament. We also learn that organizations also get the prize as both the Red Cross and the UNHCR have gotten it twice.</p>\n",
        "<p>But how old are you generally when you get the prize?</p>"
      ]
    },
    {
      "cell_type": "markdown",
      "metadata": {
        "id": "gkbXqT9_WOqO",
        "colab_type": "text"
      },
      "source": [
        "------------------------------------------\n",
        "\n",
        "Calculate and plot the age of each winner when they won their Nobel Prize.\n",
        "\n",
        "- Convert the nobel['birth_date'] column to datetime using pd.to_datetime.\n",
        "- Add a new column nobel['age'] that contains the age of each winner when they got the prize. That is, year of prize win minus birth year.\n",
        "- Use sns.lmplot (not sns.lineplot) to make a plot with year on the x-axis and age on the y-axis.\n",
        "\n",
        "#### Note: a test in this task relies on the expected last output of this cell based on the order of the instructions. If this is not the case, you may run into the following error after ten seconds of the cell being processed: \"Your code exceeded the maximum run time permitted.\"\n",
        "\n",
        "To get the year from a datetime column you need to use access the dt.year value. Here is an example:\n",
        "##### a_data_frame['a_datatime_column'].dt.year\n",
        "\n",
        "Seaborn's lmplot is a 2D scatterplot with an optional overlaid regression line. This type of plot is useful for visualizing linear relationships.\n",
        "\n",
        "To make the plot prettier, add the arguments \n",
        "##### lowess=True, aspect=2, and line_kws={'color' : 'black'}."
      ]
    },
    {
      "cell_type": "code",
      "metadata": {
        "dc": {
          "key": "52"
        },
        "tags": [
          "sample_code"
        ],
        "id": "Mf3iHzKEWOqO",
        "colab_type": "code",
        "colab": {
          "base_uri": "https://localhost:8080/",
          "height": 382
        },
        "outputId": "5aa2d2d9-35bd-4b0c-f80b-e25d0c19c56a"
      },
      "source": [
        "# Converting birth_date from String to datetime\n",
        "nobel['birth_date'] = pd.to_datetime(nobel['birth_date'])\n",
        "\n",
        "# Calculating the age of Nobel Prize winners\n",
        "nobel['age'] = nobel['year']-nobel['birth_date'].dt.year\n",
        "\n",
        "# Plotting the age of Nobel Prize winners\n",
        "sns.lmplot(x='year',y='age',data=nobel,lowess=True, aspect=2,line_kws={'color' : 'black'})"
      ],
      "execution_count": 18,
      "outputs": [
        {
          "output_type": "execute_result",
          "data": {
            "text/plain": [
              "<seaborn.axisgrid.FacetGrid at 0x7f59d4386828>"
            ]
          },
          "metadata": {
            "tags": []
          },
          "execution_count": 18
        },
        {
          "output_type": "display_data",
          "data": {
            "image/png": "[encoded data removed]",
            "text/plain": [
              "<Figure size 720x360 with 1 Axes>"
            ]
          },
          "metadata": {
            "tags": []
          }
        }
      ]
    },
    {
      "cell_type": "markdown",
      "metadata": {
        "dc": {
          "key": "59"
        },
        "deletable": false,
        "editable": false,
        "run_control": {
          "frozen": true
        },
        "tags": [
          "context"
        ],
        "id": "ad9Z5iwUWOqR",
        "colab_type": "text"
      },
      "source": [
        "## 9. Age differences between prize categories\n",
        "<p>The plot above shows us a lot! We see that people use to be around 55 when they received the price, but nowadays the average is closer to 65. But there is a large spread in the laureates' ages, and while most are 50+, some are very young.</p>\n",
        "<p>We also see that the density of points is much high nowadays than in the early 1900s -- nowadays many more of the prizes are shared, and so there are many more winners. We also see that there was a disruption in awarded prizes around the Second World War (1939 - 1945). </p>\n",
        "<p>Let's look at age trends within different prize categories.</p>"
      ]
    },
    {
      "cell_type": "markdown",
      "metadata": {
        "id": "chaapYS-WOqT",
        "colab_type": "text"
      },
      "source": [
        "--------------------------------------------\n",
        "Plot how old winners are within the different price categories.\n",
        "\n",
        "- As before, use sns.lmplot to make a plot with year on the x-axis and age on the y-axis. But this time, make one plot per prize category by setting the row argument to 'category'.\n",
        "\n",
        "#### Note: a test in this task relies on the expected last output of this cell based on the order of the instructions. If this is not the case, you may run into the following error after ten seconds of the cell being processed: \"Your code exceeded the maximum run time permitted.\"\n",
        "\n",
        "--------------------------------"
      ]
    },
    {
      "cell_type": "code",
      "metadata": {
        "dc": {
          "key": "59"
        },
        "tags": [
          "sample_code"
        ],
        "id": "b0jfQy1uWOqT",
        "colab_type": "code",
        "colab": {
          "base_uri": "https://localhost:8080/",
          "height": 1000
        },
        "outputId": "a9625c7a-0017-4984-dafb-0bd7f46c404e"
      },
      "source": [
        "# Same plot as above, but faceted by the category of the Nobel Prize\n",
        "# .... YOUR CODE FOR TASK 9 ....\n",
        "sns.lmplot(x='year',y='age',data=nobel,row='category',lowess=True, aspect=2,line_kws={'color' : 'black'})"
      ],
      "execution_count": 21,
      "outputs": [
        {
          "output_type": "execute_result",
          "data": {
            "text/plain": [
              "<seaborn.axisgrid.FacetGrid at 0x7f59c85cbc50>"
            ]
          },
          "metadata": {
            "tags": []
          },
          "execution_count": 21
        },
        {
          "output_type": "display_data",
          "data": {
            "image/png": "[encoded data removed]",
            "text/plain": [
              "<Figure size 720x2160 with 6 Axes>"
            ]
          },
          "metadata": {
            "tags": []
          }
        }
      ]
    },
    {
      "cell_type": "markdown",
      "metadata": {
        "dc": {
          "key": "66"
        },
        "deletable": false,
        "editable": false,
        "run_control": {
          "frozen": true
        },
        "tags": [
          "context"
        ],
        "id": "waC7uFUKWOqa",
        "colab_type": "text"
      },
      "source": [
        "## 10. Oldest and youngest winners\n",
        "<p>More plots with lots of exciting stuff going on! We see that both winners of the chemistry, medicine, and physics prize have gotten older over time. The trend is strongest for physics: the average age used to be below 50, and now it's almost 70. Literature and economics are more stable. We also see that economics is a newer category. But peace shows an opposite trend where winners are getting younger! </p>\n",
        "<p>In the peace category we also a winner around 2010 that seems exceptionally young. This begs the questions, who are the oldest and youngest people ever to have won a Nobel Prize?</p>"
      ]
    },
    {
      "cell_type": "markdown",
      "metadata": {
        "id": "EIf1wQsSWOqb",
        "colab_type": "text"
      },
      "source": [
        "-----------------------\n",
        "Pick out the rows of the oldest and the youngest winner of a Nobel Prize.\n",
        "\n",
        "- Use nlargest() to pick out and display the row of the oldest winner.\n",
        "- Use nsmallest() to pick out and display the row of the youngest winner.\n",
        "\n",
        "#### Note: a test in this task relies on the expected last output of this cell based on the order of the instructions. If this is not the case, you may run into the following error after ten seconds of the cell being processed: \"Your code exceeded the maximum run time permitted.\"\n",
        "\n",
        "---------------------"
      ]
    },
    {
      "cell_type": "code",
      "metadata": {
        "dc": {
          "key": "66"
        },
        "tags": [
          "sample_code"
        ],
        "id": "6cDrztTrWOqc",
        "colab_type": "code",
        "colab": {
          "base_uri": "https://localhost:8080/",
          "height": 308
        },
        "outputId": "9528a9c1-5421-4a79-caa3-97eeec53f5dd"
      },
      "source": [
        "# The oldest winner of a Nobel Prize as of 2016\n",
        "# ... YOUR CODE FOR TASK 10 ...\n",
        "display(nobel.nlargest(1,'age'))\n",
        "# The youngest winner of a Nobel Prize as of 2016\n",
        "# ... YOUR CODE FOR TASK 10 ...\n",
        "display(nobel.nsmallest(1,'age'))"
      ],
      "execution_count": 25,
      "outputs": [
        {
          "output_type": "display_data",
          "data": {
            "text/html": [
              "<div>\n",
              "<style scoped>\n",
              "    .dataframe tbody tr th:only-of-type {\n",
              "        vertical-align: middle;\n",
              "    }\n",
              "\n",
              "    .dataframe tbody tr th {\n",
              "        vertical-align: top;\n",
              "    }\n",
              "\n",
              "    .dataframe thead th {\n",
              "        text-align: right;\n",
              "    }\n",
              "</style>\n",
              "<table border=\"1\" class=\"dataframe\">\n",
              "  <thead>\n",
              "    <tr style=\"text-align: right;\">\n",
              "      <th></th>\n",
              "      <th>year</th>\n",
              "      <th>category</th>\n",
              "      <th>prize</th>\n",
              "      <th>motivation</th>\n",
              "      <th>prize_share</th>\n",
              "      <th>laureate_id</th>\n",
              "      <th>laureate_type</th>\n",
              "      <th>full_name</th>\n",
              "      <th>birth_date</th>\n",
              "      <th>birth_city</th>\n",
              "      <th>birth_country</th>\n",
              "      <th>sex</th>\n",
              "      <th>organization_name</th>\n",
              "      <th>organization_city</th>\n",
              "      <th>organization_country</th>\n",
              "      <th>death_date</th>\n",
              "      <th>death_city</th>\n",
              "      <th>death_country</th>\n",
              "      <th>usa_born_winner</th>\n",
              "      <th>decade</th>\n",
              "      <th>female_winner</th>\n",
              "      <th>age</th>\n",
              "    </tr>\n",
              "  </thead>\n",
              "  <tbody>\n",
              "    <tr>\n",
              "      <th>793</th>\n",
              "      <td>2007</td>\n",
              "      <td>Economics</td>\n",
              "      <td>The Sveriges Riksbank Prize in Economic Scienc...</td>\n",
              "      <td>\"for having laid the foundations of mechanism ...</td>\n",
              "      <td>1/3</td>\n",
              "      <td>820</td>\n",
              "      <td>Individual</td>\n",
              "      <td>Leonid Hurwicz</td>\n",
              "      <td>1917-08-21</td>\n",
              "      <td>Moscow</td>\n",
              "      <td>Russia</td>\n",
              "      <td>Male</td>\n",
              "      <td>University of Minnesota</td>\n",
              "      <td>Minneapolis, MN</td>\n",
              "      <td>United States of America</td>\n",
              "      <td>2008-06-24</td>\n",
              "      <td>Minneapolis, MN</td>\n",
              "      <td>United States of America</td>\n",
              "      <td>False</td>\n",
              "      <td>2000</td>\n",
              "      <td>False</td>\n",
              "      <td>90.0</td>\n",
              "    </tr>\n",
              "  </tbody>\n",
              "</table>\n",
              "</div>"
            ],
            "text/plain": [
              "     year   category  ... female_winner   age\n",
              "793  2007  Economics  ...         False  90.0\n",
              "\n",
              "[1 rows x 22 columns]"
            ]
          },
          "metadata": {
            "tags": []
          }
        },
        {
          "output_type": "display_data",
          "data": {
            "text/html": [
              "<div>\n",
              "<style scoped>\n",
              "    .dataframe tbody tr th:only-of-type {\n",
              "        vertical-align: middle;\n",
              "    }\n",
              "\n",
              "    .dataframe tbody tr th {\n",
              "        vertical-align: top;\n",
              "    }\n",
              "\n",
              "    .dataframe thead th {\n",
              "        text-align: right;\n",
              "    }\n",
              "</style>\n",
              "<table border=\"1\" class=\"dataframe\">\n",
              "  <thead>\n",
              "    <tr style=\"text-align: right;\">\n",
              "      <th></th>\n",
              "      <th>year</th>\n",
              "      <th>category</th>\n",
              "      <th>prize</th>\n",
              "      <th>motivation</th>\n",
              "      <th>prize_share</th>\n",
              "      <th>laureate_id</th>\n",
              "      <th>laureate_type</th>\n",
              "      <th>full_name</th>\n",
              "      <th>birth_date</th>\n",
              "      <th>birth_city</th>\n",
              "      <th>birth_country</th>\n",
              "      <th>sex</th>\n",
              "      <th>organization_name</th>\n",
              "      <th>organization_city</th>\n",
              "      <th>organization_country</th>\n",
              "      <th>death_date</th>\n",
              "      <th>death_city</th>\n",
              "      <th>death_country</th>\n",
              "      <th>usa_born_winner</th>\n",
              "      <th>decade</th>\n",
              "      <th>female_winner</th>\n",
              "      <th>age</th>\n",
              "    </tr>\n",
              "  </thead>\n",
              "  <tbody>\n",
              "    <tr>\n",
              "      <th>885</th>\n",
              "      <td>2014</td>\n",
              "      <td>Peace</td>\n",
              "      <td>The Nobel Peace Prize 2014</td>\n",
              "      <td>\"for their struggle against the suppression of...</td>\n",
              "      <td>1/2</td>\n",
              "      <td>914</td>\n",
              "      <td>Individual</td>\n",
              "      <td>Malala Yousafzai</td>\n",
              "      <td>1997-07-12</td>\n",
              "      <td>Mingora</td>\n",
              "      <td>Pakistan</td>\n",
              "      <td>Female</td>\n",
              "      <td>NaN</td>\n",
              "      <td>NaN</td>\n",
              "      <td>NaN</td>\n",
              "      <td>NaN</td>\n",
              "      <td>NaN</td>\n",
              "      <td>NaN</td>\n",
              "      <td>False</td>\n",
              "      <td>2010</td>\n",
              "      <td>True</td>\n",
              "      <td>17.0</td>\n",
              "    </tr>\n",
              "  </tbody>\n",
              "</table>\n",
              "</div>"
            ],
            "text/plain": [
              "     year category                       prize  ... decade female_winner   age\n",
              "885  2014    Peace  The Nobel Peace Prize 2014  ...   2010          True  17.0\n",
              "\n",
              "[1 rows x 22 columns]"
            ]
          },
          "metadata": {
            "tags": []
          }
        }
      ]
    },
    {
      "cell_type": "markdown",
      "metadata": {
        "dc": {
          "key": "73"
        },
        "deletable": false,
        "editable": false,
        "run_control": {
          "frozen": true
        },
        "tags": [
          "context"
        ],
        "id": "ClWUvRprWOqf",
        "colab_type": "text"
      },
      "source": [
        "## 11. You get a prize!\n",
        "<p><img style=\"float: right;margin:20px 20px 20px 20px; max-width:200px\" src=\"https://assets.datacamp.com/production/project_441/img/paint_nobel_prize.png\"></p>\n",
        "<p>Hey! You get a prize for making it to the very end of this notebook! It might not be a Nobel Prize, but I made it myself in paint so it should count for something. But don't despair, Leonid Hurwicz was 90 years old when he got his prize, so it might not be too late for you. Who knows.</p>\n",
        "<p>Before you leave, what was again the name of the youngest winner ever who in 2014 got the prize for \"[her] struggle against the suppression of children and young people and for the right of all children to education\"?</p>"
      ]
    },
    {
      "cell_type": "markdown",
      "metadata": {
        "id": "bVMpEoJFWOqg",
        "colab_type": "text"
      },
      "source": [
        "---------------------\n",
        "Assign the name of the youngest winner of a Nobel Prize to youngest_winner. The first name will suffice.\n",
        "\n",
        "--------------------------------------"
      ]
    },
    {
      "cell_type": "code",
      "metadata": {
        "dc": {
          "key": "73"
        },
        "tags": [
          "sample_code"
        ],
        "id": "1oas6WYmWOqh",
        "colab_type": "code",
        "colab": {
          "base_uri": "https://localhost:8080/",
          "height": 34
        },
        "outputId": "d17434cc-989e-4b8e-d6f1-3304e4bb94e7"
      },
      "source": [
        "# The name of the youngest winner of the Nobel Prize as of 2016\n",
        "youngest_winner = nobel.nsmallest(1,'age')['full_name'].values\n",
        "display(youngest_winner)"
      ],
      "execution_count": 30,
      "outputs": [
        {
          "output_type": "display_data",
          "data": {
            "text/plain": [
              "array(['Malala Yousafzai'], dtype=object)"
            ]
          },
          "metadata": {
            "tags": []
          }
        }
      ]
    }
  ]
}