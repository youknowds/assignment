{
  "nbformat": 4,
  "nbformat_minor": 0,
  "metadata": {
    "kernelspec": {
      "display_name": "Python 3",
      "language": "python",
      "name": "python3"
    },
    "language_info": {
      "codemirror_mode": {
        "name": "ipython",
        "version": 3
      },
      "file_extension": ".py",
      "mimetype": "text/x-python",
      "name": "python",
      "nbconvert_exporter": "python",
      "pygments_lexer": "ipython3",
      "version": "3.8.5"
    },
    "colab": {
      "name": "Homework3-02.ipynb",
      "provenance": [],
      "include_colab_link": true
    }
  },
  "cells": [
    {
      "cell_type": "markdown",
      "metadata": {
        "id": "view-in-github",
        "colab_type": "text"
      },
      "source": [
        "<a href=\"https://colab.research.google.com/github/youknowds/assignment/blob/python2/Homework3_02.ipynb\" target=\"_parent\"><img src=\"https://colab.research.google.com/assets/colab-badge.svg\" alt=\"Open In Colab\"/></a>"
      ]
    },
    {
      "cell_type": "markdown",
      "metadata": {
        "dc": {
          "key": "1d0b086e6c"
        },
        "deletable": false,
        "editable": false,
        "run_control": {
          "frozen": true
        },
        "tags": [
          "context"
        ],
        "id": "5t4emQ5tMT9I",
        "colab_type": "text"
      },
      "source": [
        "## 1. Introduction\n",
        "<p>Everyone loves Lego (unless you ever stepped on one). Did you know by the way that \"Lego\" was derived from the Danish phrase leg godt, which means \"play well\"? Unless you speak Danish, probably not. </p>\n",
        "<p>In this project, we will analyze a fascinating dataset on every single lego block that has ever been built!</p>\n",
        "<p><img src=\"https://s3.amazonaws.com/assets.datacamp.com/production/project_10/datasets/lego-bricks.jpeg\" alt=\"lego\"></p>"
      ]
    },
    {
      "cell_type": "code",
      "metadata": {
        "dc": {
          "key": "1d0b086e6c"
        },
        "tags": [
          "sample_code"
        ],
        "id": "hhpkDT3LMT9L",
        "colab_type": "code",
        "colab": {}
      },
      "source": [
        "# Nothing to do here"
      ],
      "execution_count": null,
      "outputs": []
    },
    {
      "cell_type": "markdown",
      "metadata": {
        "dc": {
          "key": "044b2cef41"
        },
        "deletable": false,
        "editable": false,
        "run_control": {
          "frozen": true
        },
        "tags": [
          "context"
        ],
        "id": "Lf9u38wwMT9Q",
        "colab_type": "text"
      },
      "source": [
        "## 2. Reading Data\n",
        "<p>A comprehensive database of lego blocks is provided by <a href=\"https://rebrickable.com/downloads/\">Rebrickable</a>. The data is available as csv files and the schema is shown below.</p>\n",
        "<p><img src=\"https://s3.amazonaws.com/assets.datacamp.com/production/project_10/datasets/downloads_schema.png\" alt=\"schema\"></p>\n",
        "<p>Let us start by reading in the colors data to get a sense of the diversity of lego sets!</p>"
      ]
    },
    {
      "cell_type": "code",
      "metadata": {
        "id": "xSq9_RiltUBl",
        "colab_type": "code",
        "colab": {
          "base_uri": "https://localhost:8080/",
          "height": 34
        },
        "outputId": "21a840dd-a8c3-49c9-e78b-2aaaf1245b08"
      },
      "source": [
        "from google.colab import drive\n",
        "drive.mount('/content/gdrive')"
      ],
      "execution_count": 1,
      "outputs": [
        {
          "output_type": "stream",
          "text": [
            "Mounted at /content/gdrive\n"
          ],
          "name": "stdout"
        }
      ]
    },
    {
      "cell_type": "code",
      "metadata": {
        "dc": {
          "key": "044b2cef41"
        },
        "tags": [
          "sample_code"
        ],
        "id": "jBmceIBtMT9R",
        "colab_type": "code",
        "colab": {
          "base_uri": "https://localhost:8080/",
          "height": 122
        },
        "outputId": "1249bffc-20c9-44ab-9cab-eace1a65feb6"
      },
      "source": [
        "# Import modules\n",
        "import pandas as pd\n",
        "\n",
        "# Read colors data\n",
        "# -- YOUR CODE HERE --\n",
        "color = pd.read_csv('/content/gdrive/My Drive/colors.csv')\n",
        "\n",
        "# Print the first few rows\n",
        "# -- YOUR CODE HERE --\n",
        "print(color.head())"
      ],
      "execution_count": 13,
      "outputs": [
        {
          "output_type": "stream",
          "text": [
            "   id            name     rgb is_trans\n",
            "0  -1       [Unknown]  0033B2        f\n",
            "1   0           Black  05131D        f\n",
            "2   1            Blue  0055BF        f\n",
            "3   2           Green  237841        f\n",
            "4   3  Dark Turquoise  008F9B        f\n"
          ],
          "name": "stdout"
        }
      ]
    },
    {
      "cell_type": "markdown",
      "metadata": {
        "dc": {
          "key": "15c1e2ce38"
        },
        "deletable": false,
        "editable": false,
        "run_control": {
          "frozen": true
        },
        "tags": [
          "context"
        ],
        "id": "QgaYHXnEMT9W",
        "colab_type": "text"
      },
      "source": [
        "## 3. Exploring Colors\n",
        "<p>Now that we have read the <code>colors</code> data, we can start exploring it! Let us start by understanding the number of colors available.</p>"
      ]
    },
    {
      "cell_type": "markdown",
      "metadata": {
        "id": "LQxgeTuoMT9Y",
        "colab_type": "text"
      },
      "source": [
        "---------------------------------------------------------------------------------\n",
        "- Create a variable named num_colors that counts the number of distinct colors and print it out.\n",
        "\n",
        "-------------------------------------------------"
      ]
    },
    {
      "cell_type": "code",
      "metadata": {
        "dc": {
          "key": "15c1e2ce38"
        },
        "tags": [
          "sample_code"
        ],
        "id": "qnRkIOo3MT9Z",
        "colab_type": "code",
        "colab": {
          "base_uri": "https://localhost:8080/",
          "height": 34
        },
        "outputId": "f37ab5ca-91d0-4db9-f754-d5218fa3e5c3"
      },
      "source": [
        "# How many distinct colors are available?\n",
        "# -- YOUR CODE HERE --\n",
        "num_colors=len(color['name'].unique())\n",
        "num_colors"
      ],
      "execution_count": 14,
      "outputs": [
        {
          "output_type": "execute_result",
          "data": {
            "text/plain": [
              "186"
            ]
          },
          "metadata": {
            "tags": []
          },
          "execution_count": 14
        }
      ]
    },
    {
      "cell_type": "markdown",
      "metadata": {
        "dc": {
          "key": "a5723ae5c2"
        },
        "deletable": false,
        "editable": false,
        "run_control": {
          "frozen": true
        },
        "tags": [
          "context"
        ],
        "id": "FsBvELIPMT9f",
        "colab_type": "text"
      },
      "source": [
        "## 4. Transparent Colors in Lego Sets\n",
        "<p>The <code>colors</code> data has a column named <code>is_trans</code> that indicates whether a color is transparent or not. It would be interesting to explore the distribution of transparent vs. non-transparent colors.</p>"
      ]
    },
    {
      "cell_type": "markdown",
      "metadata": {
        "id": "dLtwrmMJMT9g",
        "colab_type": "text"
      },
      "source": [
        "----------------------------------------------------------------------\n",
        "\n",
        "- Summarize colors based on their transparency.\n",
        "\n",
        "- Save the result as a variable named colors_summary.\n",
        "\n",
        "- Print out colors_summary.\n",
        "\n",
        "-----------------------------------------------------------------------\n"
      ]
    },
    {
      "cell_type": "code",
      "metadata": {
        "dc": {
          "key": "a5723ae5c2"
        },
        "tags": [
          "sample_code"
        ],
        "id": "fpZ6WdxXMT9g",
        "colab_type": "code",
        "colab": {
          "base_uri": "https://localhost:8080/",
          "height": 87
        },
        "outputId": "4ca1ca35-be15-47ac-b410-eb10e342d061"
      },
      "source": [
        "# colors_summary: Distribution of colors based on transparency\n",
        "# -- YOUR CODE HERE --\n",
        "colors_summary=color.groupby('is_trans')['name'].count()\n",
        "display(colors_summary)"
      ],
      "execution_count": 15,
      "outputs": [
        {
          "output_type": "display_data",
          "data": {
            "text/plain": [
              "is_trans\n",
              "f    151\n",
              "t     35\n",
              "Name: name, dtype: int64"
            ]
          },
          "metadata": {
            "tags": []
          }
        }
      ]
    },
    {
      "cell_type": "markdown",
      "metadata": {
        "dc": {
          "key": "c9d0e58653"
        },
        "deletable": false,
        "editable": false,
        "run_control": {
          "frozen": true
        },
        "tags": [
          "context"
        ],
        "id": "o20fdVnLMT9j",
        "colab_type": "text"
      },
      "source": [
        "## 5. Explore Lego Sets\n",
        "<p>Another interesting dataset available in this database is the <code>sets</code> data. It contains a comprehensive list of sets over the years and the number of parts that each of these sets contained. </p>\n",
        "<p><img src=\"https://imgur.com/1k4PoXs.png\" alt=\"sets_data\"></p>\n",
        "<p>Let us use this data to explore how the average number of parts in Lego sets has varied over the years.</p>"
      ]
    },
    {
      "cell_type": "markdown",
      "metadata": {
        "id": "OFGEbwmrMT9k",
        "colab_type": "text"
      },
      "source": [
        "-------------------------------------------------------------------\n",
        "\n",
        "- Read the data in datasets/sets.csv as a DataFrame named sets.\n",
        "\n",
        "- Create a summary of the average number of parts per year and save it as parts_by_year.\n",
        "\n",
        "- Plot the average number of parts per year.\n",
        "\n",
        "--------------------------------------------------------------------"
      ]
    },
    {
      "cell_type": "code",
      "metadata": {
        "dc": {
          "key": "c9d0e58653"
        },
        "tags": [
          "sample_code"
        ],
        "id": "qllQRCcEMT9l",
        "colab_type": "code",
        "colab": {
          "base_uri": "https://localhost:8080/",
          "height": 914
        },
        "outputId": "03930e23-46c6-4dd8-8380-203c9ecd7047"
      },
      "source": [
        "%matplotlib inline\n",
        "import matplotlib.pyplot as plt\n",
        "\n",
        "# Read sets data as `sets`\n",
        "# -- YOUR CODE HERE --\n",
        "sets = pd.read_csv('/content/gdrive/My Drive/sets.csv')\n",
        "display(sets)\n",
        "# Create a summary of average number of parts by year: `parts_by_year`\n",
        "# -- YOUR CODE HERE --\n",
        "parts_by_year=sets.dropna().groupby('year')['num_parts'].mean()\n",
        "print()\n",
        "display(parts_by_year)\n",
        "\n",
        "\n",
        "# Plot trends in average number of parts by year\n",
        "# -- YOUR CODE HERE --\n",
        "plt.plot(parts_by_year)"
      ],
      "execution_count": 21,
      "outputs": [
        {
          "output_type": "display_data",
          "data": {
            "text/html": [
              "<div>\n",
              "<style scoped>\n",
              "    .dataframe tbody tr th:only-of-type {\n",
              "        vertical-align: middle;\n",
              "    }\n",
              "\n",
              "    .dataframe tbody tr th {\n",
              "        vertical-align: top;\n",
              "    }\n",
              "\n",
              "    .dataframe thead th {\n",
              "        text-align: right;\n",
              "    }\n",
              "</style>\n",
              "<table border=\"1\" class=\"dataframe\">\n",
              "  <thead>\n",
              "    <tr style=\"text-align: right;\">\n",
              "      <th></th>\n",
              "      <th>set_num</th>\n",
              "      <th>name</th>\n",
              "      <th>year</th>\n",
              "      <th>theme_id</th>\n",
              "      <th>num_parts</th>\n",
              "    </tr>\n",
              "  </thead>\n",
              "  <tbody>\n",
              "    <tr>\n",
              "      <th>0</th>\n",
              "      <td>00-1</td>\n",
              "      <td>Weetabix Castle</td>\n",
              "      <td>1970</td>\n",
              "      <td>414</td>\n",
              "      <td>471.0</td>\n",
              "    </tr>\n",
              "    <tr>\n",
              "      <th>1</th>\n",
              "      <td>0011-2</td>\n",
              "      <td>Town Mini-Figures</td>\n",
              "      <td>1978</td>\n",
              "      <td>84</td>\n",
              "      <td>12.0</td>\n",
              "    </tr>\n",
              "    <tr>\n",
              "      <th>2</th>\n",
              "      <td>0011-3</td>\n",
              "      <td>Castle 2 for 1 Bonus Offer</td>\n",
              "      <td>1987</td>\n",
              "      <td>199</td>\n",
              "      <td>2.0</td>\n",
              "    </tr>\n",
              "    <tr>\n",
              "      <th>3</th>\n",
              "      <td>0012-1</td>\n",
              "      <td>Space Mini-Figures</td>\n",
              "      <td>1979</td>\n",
              "      <td>143</td>\n",
              "      <td>12.0</td>\n",
              "    </tr>\n",
              "    <tr>\n",
              "      <th>4</th>\n",
              "      <td>0013-1</td>\n",
              "      <td>Space Mini-Figures</td>\n",
              "      <td>1979</td>\n",
              "      <td>143</td>\n",
              "      <td>12.0</td>\n",
              "    </tr>\n",
              "    <tr>\n",
              "      <th>...</th>\n",
              "      <td>...</td>\n",
              "      <td>...</td>\n",
              "      <td>...</td>\n",
              "      <td>...</td>\n",
              "      <td>...</td>\n",
              "    </tr>\n",
              "    <tr>\n",
              "      <th>11861</th>\n",
              "      <td>Wauwatosa-1</td>\n",
              "      <td>LEGO Store Grand Opening Exclusive Set, Mayfai...</td>\n",
              "      <td>2012</td>\n",
              "      <td>408</td>\n",
              "      <td>15.0</td>\n",
              "    </tr>\n",
              "    <tr>\n",
              "      <th>11862</th>\n",
              "      <td>WHITEHOUSE-1</td>\n",
              "      <td>Micro White House</td>\n",
              "      <td>2015</td>\n",
              "      <td>598</td>\n",
              "      <td>59.0</td>\n",
              "    </tr>\n",
              "    <tr>\n",
              "      <th>11863</th>\n",
              "      <td>Wiesbaden-1</td>\n",
              "      <td>LEGO Store Grand Opening Exclusive Set, Wiesba...</td>\n",
              "      <td>2010</td>\n",
              "      <td>408</td>\n",
              "      <td>146.0</td>\n",
              "    </tr>\n",
              "    <tr>\n",
              "      <th>11864</th>\n",
              "      <td>WishingWell-1</td>\n",
              "      <td>Wishing Well [Toys R Us Promo]</td>\n",
              "      <td>2013</td>\n",
              "      <td>494</td>\n",
              "      <td>28.0</td>\n",
              "    </tr>\n",
              "    <tr>\n",
              "      <th>11865</th>\n",
              "      <td>wwgp1-1</td>\n",
              "      <td>Wild West Limited Edition Gift Pack</td>\n",
              "      <td>1996</td>\n",
              "      <td>476</td>\n",
              "      <td>3.0</td>\n",
              "    </tr>\n",
              "  </tbody>\n",
              "</table>\n",
              "<p>11866 rows × 5 columns</p>\n",
              "</div>"
            ],
            "text/plain": [
              "             set_num  ... num_parts\n",
              "0               00-1  ...     471.0\n",
              "1             0011-2  ...      12.0\n",
              "2             0011-3  ...       2.0\n",
              "3             0012-1  ...      12.0\n",
              "4             0013-1  ...      12.0\n",
              "...              ...  ...       ...\n",
              "11861    Wauwatosa-1  ...      15.0\n",
              "11862   WHITEHOUSE-1  ...      59.0\n",
              "11863    Wiesbaden-1  ...     146.0\n",
              "11864  WishingWell-1  ...      28.0\n",
              "11865        wwgp1-1  ...       3.0\n",
              "\n",
              "[11866 rows x 5 columns]"
            ]
          },
          "metadata": {
            "tags": []
          }
        },
        {
          "output_type": "stream",
          "text": [
            "\n"
          ],
          "name": "stdout"
        },
        {
          "output_type": "display_data",
          "data": {
            "text/plain": [
              "year\n",
              "1950     10.142857\n",
              "1953     16.500000\n",
              "1954     12.357143\n",
              "1955     36.857143\n",
              "1956     18.500000\n",
              "           ...    \n",
              "2013    181.359191\n",
              "2014    169.320280\n",
              "2015    195.566210\n",
              "2016    249.368595\n",
              "2017    312.944444\n",
              "Name: num_parts, Length: 66, dtype: float64"
            ]
          },
          "metadata": {
            "tags": []
          }
        },
        {
          "output_type": "execute_result",
          "data": {
            "text/plain": [
              "[<matplotlib.lines.Line2D at 0x7f76cca66a58>]"
            ]
          },
          "metadata": {
            "tags": []
          },
          "execution_count": 21
        },
        {
          "output_type": "display_data",
          "data": {
            "image/png": "[encoded data removed]",
            "text/plain": [
              "<Figure size 432x288 with 1 Axes>"
            ]
          },
          "metadata": {
            "tags": [],
            "needs_background": "light"
          }
        }
      ]
    },
    {
      "cell_type": "markdown",
      "metadata": {
        "dc": {
          "key": "266a3f390c"
        },
        "deletable": false,
        "editable": false,
        "run_control": {
          "frozen": true
        },
        "tags": [
          "context"
        ],
        "id": "by_EoMo9MT9p",
        "colab_type": "text"
      },
      "source": [
        "## 6. Lego Themes Over Years\n",
        "<p>Lego blocks ship under multiple <a href=\"https://shop.lego.com/en-US/Themes\">themes</a>. Let us try to get a sense of how the number of themes shipped has varied over the years.</p>"
      ]
    },
    {
      "cell_type": "markdown",
      "metadata": {
        "id": "yMabngRbMT9p",
        "colab_type": "text"
      },
      "source": [
        "-------------------------------------\n",
        "- Create a summary of the number of distinct themes shipped by year.\n",
        "\n",
        "- Save it as a DataFrame named themes_by_year.\n",
        "\n",
        "- Print the first couple of rows in themes_by_year.\n",
        "\n",
        "##### Note: In this step you may need to use an aggregation function that you have yet to encounter. The documentation here may be of assistance. You will want to find a way to return the number of unique values in each group.\n",
        "\n",
        "------------------------------------------------------------------------------"
      ]
    },
    {
      "cell_type": "code",
      "metadata": {
        "dc": {
          "key": "266a3f390c"
        },
        "tags": [
          "sample_code"
        ],
        "id": "j_dc3FuNMT9q",
        "colab_type": "code",
        "colab": {
          "base_uri": "https://localhost:8080/",
          "height": 225
        },
        "outputId": "265cc392-16ba-40a8-af2c-bf3eb6184600"
      },
      "source": [
        "# themes_by_year: Number of themes shipped by year\n",
        "# -- YOUR CODE HERE --\n",
        "grouped=sets.dropna().groupby('year')['theme_id']\n",
        "themes_by_year=grouped.agg(['nunique'])\n",
        "display(themes_by_year.head(5))"
      ],
      "execution_count": 30,
      "outputs": [
        {
          "output_type": "display_data",
          "data": {
            "text/html": [
              "<div>\n",
              "<style scoped>\n",
              "    .dataframe tbody tr th:only-of-type {\n",
              "        vertical-align: middle;\n",
              "    }\n",
              "\n",
              "    .dataframe tbody tr th {\n",
              "        vertical-align: top;\n",
              "    }\n",
              "\n",
              "    .dataframe thead th {\n",
              "        text-align: right;\n",
              "    }\n",
              "</style>\n",
              "<table border=\"1\" class=\"dataframe\">\n",
              "  <thead>\n",
              "    <tr style=\"text-align: right;\">\n",
              "      <th></th>\n",
              "      <th>nunique</th>\n",
              "    </tr>\n",
              "    <tr>\n",
              "      <th>year</th>\n",
              "      <th></th>\n",
              "    </tr>\n",
              "  </thead>\n",
              "  <tbody>\n",
              "    <tr>\n",
              "      <th>1950</th>\n",
              "      <td>2</td>\n",
              "    </tr>\n",
              "    <tr>\n",
              "      <th>1953</th>\n",
              "      <td>1</td>\n",
              "    </tr>\n",
              "    <tr>\n",
              "      <th>1954</th>\n",
              "      <td>2</td>\n",
              "    </tr>\n",
              "    <tr>\n",
              "      <th>1955</th>\n",
              "      <td>4</td>\n",
              "    </tr>\n",
              "    <tr>\n",
              "      <th>1956</th>\n",
              "      <td>3</td>\n",
              "    </tr>\n",
              "  </tbody>\n",
              "</table>\n",
              "</div>"
            ],
            "text/plain": [
              "      nunique\n",
              "year         \n",
              "1950        2\n",
              "1953        1\n",
              "1954        2\n",
              "1955        4\n",
              "1956        3"
            ]
          },
          "metadata": {
            "tags": []
          }
        }
      ]
    },
    {
      "cell_type": "markdown",
      "metadata": {
        "dc": {
          "key": "a293e5076e"
        },
        "deletable": false,
        "editable": false,
        "run_control": {
          "frozen": true
        },
        "tags": [
          "context"
        ],
        "id": "JzH4GxItMT9u",
        "colab_type": "text"
      },
      "source": [
        "## 7. Wrapping It All Up!\n",
        "<p>Lego blocks offer an unlimited amount of fun across ages. We explored some interesting trends around colors, parts, and themes. </p>"
      ]
    },
    {
      "cell_type": "markdown",
      "metadata": {
        "id": "k9oi6-3_MT9v",
        "colab_type": "text"
      },
      "source": [
        "-----------------------------------------------\n",
        "- In 1999, Lego expanded into licensed sets with the introduction of Star Wars themed sets. In that year, how many unique themes were released?\n",
        "\n",
        "- Assign your answer to the variable num_themes.\n",
        "\n",
        "- Print num_themes.\n",
        "\n",
        "\n",
        "##### Note: If you have another interesting subjects with lego datasets, try it.\n",
        "\n",
        "-------------------------------------------------------------"
      ]
    },
    {
      "cell_type": "code",
      "metadata": {
        "dc": {
          "key": "a293e5076e"
        },
        "tags": [
          "sample_code"
        ],
        "id": "8YbdnlOIMT9w",
        "colab_type": "code",
        "colab": {
          "base_uri": "https://localhost:8080/",
          "height": 34
        },
        "outputId": "820690db-499e-4688-a194-4c3d018e2bcb"
      },
      "source": [
        "num_themes=themes_by_year[themes_by_year.index == 1999].values\n",
        "display(num_themes)"
      ],
      "execution_count": 51,
      "outputs": [
        {
          "output_type": "display_data",
          "data": {
            "text/plain": [
              "array([[71]])"
            ]
          },
          "metadata": {
            "tags": []
          }
        }
      ]
    }
  ]
}