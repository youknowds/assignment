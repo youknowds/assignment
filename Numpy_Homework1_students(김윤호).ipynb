{
 "cells": [
  {
   "cell_type": "markdown",
   "metadata": {},
   "source": [
    "# Homework 1 - Numpy"
   ]
  },
  {
   "cell_type": "markdown",
   "metadata": {},
   "source": [
    "For all the questions, print the results with a variable of your choice (e.g., Z)"
   ]
  },
  {
   "cell_type": "markdown",
   "metadata": {},
   "source": [
    "#### 1. Import the numpy package under the name `np` "
   ]
  },
  {
   "cell_type": "code",
   "execution_count": 1,
   "metadata": {},
   "outputs": [],
   "source": [
    "import numpy as np"
   ]
  },
  {
   "cell_type": "markdown",
   "metadata": {},
   "source": [
    "#### 2. Create a vector with values ranging from 10 to 49 "
   ]
  },
  {
   "cell_type": "code",
   "execution_count": 19,
   "metadata": {},
   "outputs": [
    {
     "name": "stdout",
     "output_type": "stream",
     "text": [
      "[10 11 12 13 14 15 16 17 18 19 20 21 22 23 24 25 26 27 28 29 30 31 32 33\n",
      " 34 35 36 37 38 39 40 41 42 43 44 45 46 47 48 49]\n"
     ]
    }
   ],
   "source": [
    "a=np.arange(10,50)\n",
    "print(a)"
   ]
  },
  {
   "cell_type": "markdown",
   "metadata": {},
   "source": [
    "#### 3. Reverse a vector (first element becomes last) "
   ]
  },
  {
   "cell_type": "code",
   "execution_count": 20,
   "metadata": {},
   "outputs": [
    {
     "name": "stdout",
     "output_type": "stream",
     "text": [
      "[49 48 47 46 45 44 43 42 41 40 39 38 37 36 35 34 33 32 31 30 29 28 27 26\n",
      " 25 24 23 22 21 20 19 18 17 16 15 14 13 12 11 10]\n"
     ]
    }
   ],
   "source": [
    "a_r=a[::-1]\n",
    "print(a_r)"
   ]
  },
  {
   "cell_type": "markdown",
   "metadata": {},
   "source": [
    "#### 4. Create a 3x3 matrix with values ranging from 0 to 8 "
   ]
  },
  {
   "cell_type": "code",
   "execution_count": 21,
   "metadata": {},
   "outputs": [
    {
     "name": "stdout",
     "output_type": "stream",
     "text": [
      "[[0 1 2]\n",
      " [3 4 5]\n",
      " [6 7 8]]\n"
     ]
    }
   ],
   "source": [
    "b=np.arange(9).reshape(3,3)\n",
    "print(b)"
   ]
  },
  {
   "cell_type": "markdown",
   "metadata": {},
   "source": [
    "#### 5. Find indices of non-zero elements from [1,2,0,0,4,0] "
   ]
  },
  {
   "cell_type": "code",
   "execution_count": 22,
   "metadata": {},
   "outputs": [
    {
     "name": "stdout",
     "output_type": "stream",
     "text": [
      "(array([0, 1, 4], dtype=int64),)\n"
     ]
    }
   ],
   "source": [
    "c=[1,2,0,0,4,0]\n",
    "print(np.nonzero(c))"
   ]
  },
  {
   "cell_type": "markdown",
   "metadata": {},
   "source": [
    "#### 6. Create a 3x3 identity matrix "
   ]
  },
  {
   "cell_type": "code",
   "execution_count": 23,
   "metadata": {},
   "outputs": [
    {
     "name": "stdout",
     "output_type": "stream",
     "text": [
      "[[1. 0. 0.]\n",
      " [0. 1. 0.]\n",
      " [0. 0. 1.]]\n"
     ]
    }
   ],
   "source": [
    "d=np.eye(3)\n",
    "print(d)"
   ]
  },
  {
   "cell_type": "markdown",
   "metadata": {},
   "source": [
    "#### 7. Create a 3x3x3 array with random values "
   ]
  },
  {
   "cell_type": "code",
   "execution_count": 30,
   "metadata": {},
   "outputs": [
    {
     "name": "stdout",
     "output_type": "stream",
     "text": [
      "[[[0.73337602 0.10843039 0.31591193]\n",
      "  [0.83462982 0.1681886  0.06071355]\n",
      "  [0.75129574 0.47120029 0.18390819]]\n",
      "\n",
      " [[0.01563902 0.30648201 0.08509822]\n",
      "  [0.66512785 0.54258343 0.70906213]\n",
      "  [0.26401215 0.83689225 0.68724797]]\n",
      "\n",
      " [[0.57052989 0.74043104 0.76484561]\n",
      "  [0.78010556 0.75595168 0.21607445]\n",
      "  [0.845311   0.3426107  0.53279103]]]\n",
      "\n",
      "[[[7.91068728 8.34960786 3.41599744]\n",
      "  [2.55928476 2.53305022 3.32219788]\n",
      "  [3.02210872 9.26438853 8.45322812]]\n",
      "\n",
      " [[8.55172632 4.53174843 0.66278984]\n",
      "  [2.6111519  4.01651763 4.96142385]\n",
      "  [7.15978396 0.62767357 8.91456827]]\n",
      "\n",
      " [[8.602586   3.75979028 7.60296317]\n",
      "  [6.79998317 1.91997108 8.25159072]\n",
      "  [8.65542663 2.33423099 6.16023441]]]\n"
     ]
    }
   ],
   "source": [
    "e=np.random.random((3,3,3))\n",
    "print(e)\n",
    "print()\n",
    "f=np.random.uniform(0,10,(3,3,3))\n",
    "print(f)"
   ]
  },
  {
   "cell_type": "markdown",
   "metadata": {},
   "source": [
    "#### 8. Create a 10x10 array with random values and find the minimum and maximum values "
   ]
  },
  {
   "cell_type": "code",
   "execution_count": 40,
   "metadata": {},
   "outputs": [
    {
     "name": "stdout",
     "output_type": "stream",
     "text": [
      "[[0.15072709 0.78802157 0.67273428 0.51918624 0.65984761 0.734939\n",
      "  0.303967   0.14562049 0.30089228 0.81913183]\n",
      " [0.79544655 0.28672615 0.32894444 0.25889769 0.30002    0.7796615\n",
      "  0.18413659 0.3596594  0.32971941 0.93262665]\n",
      " [0.28148062 0.04172412 0.63205524 0.02008013 0.00773103 0.41805252\n",
      "  0.9397933  0.86666773 0.70459008 0.65789766]\n",
      " [0.24210872 0.14031453 0.05310585 0.21010997 0.22092538 0.9002761\n",
      "  0.75499551 0.86396924 0.06347166 0.07049674]\n",
      " [0.14388347 0.90593394 0.06028854 0.08618823 0.73763743 0.35741057\n",
      "  0.20528649 0.40523366 0.70689054 0.56729242]\n",
      " [0.97113069 0.21058108 0.85401487 0.92865327 0.5607783  0.53391288\n",
      "  0.88424221 0.32766335 0.19662114 0.75631416]\n",
      " [0.99347078 0.46416481 0.05593306 0.29041208 0.73847385 0.97611179\n",
      "  0.09761502 0.39451481 0.01505132 0.24865214]\n",
      " [0.26782806 0.83175308 0.14633932 0.42372279 0.17205261 0.78139916\n",
      "  0.86583612 0.29363209 0.72313006 0.30056065]\n",
      " [0.12319497 0.111503   0.80215634 0.60533301 0.7079369  0.47395088\n",
      "  0.59976651 0.07011425 0.20641367 0.67904501]\n",
      " [0.26581074 0.5512787  0.1541421  0.05195556 0.35440533 0.06781775\n",
      "  0.07011095 0.10958875 0.1049881  0.1166696 ]]\n",
      "max : 0.9934707766107306\n",
      "min : 0.007731029553448399\n"
     ]
    }
   ],
   "source": [
    "g=np.random.random((10,10))\n",
    "print(g)\n",
    "print('max :',np.max(g))\n",
    "print('min :',np.min(g))"
   ]
  },
  {
   "cell_type": "markdown",
   "metadata": {},
   "source": [
    "#### 9. Create a checkerboard 8x8 matrix using np.array([0,1],[1,0]) and the tile function  "
   ]
  },
  {
   "cell_type": "code",
   "execution_count": 49,
   "metadata": {},
   "outputs": [
    {
     "name": "stdout",
     "output_type": "stream",
     "text": [
      "[[0 1 0 1 0 1 0 1]\n",
      " [1 0 1 0 1 0 1 0]\n",
      " [0 1 0 1 0 1 0 1]\n",
      " [1 0 1 0 1 0 1 0]\n",
      " [0 1 0 1 0 1 0 1]\n",
      " [1 0 1 0 1 0 1 0]\n",
      " [0 1 0 1 0 1 0 1]\n",
      " [1 0 1 0 1 0 1 0]]\n"
     ]
    }
   ],
   "source": [
    "h=np.array([[0,1],[1,0]])\n",
    "cb=np.tile(h,(4,4))\n",
    "print(cb)"
   ]
  },
  {
   "cell_type": "markdown",
   "metadata": {},
   "source": [
    "#### 10. Multiply a 5x3 matrix by a 3x2 matrix (real matrix product) "
   ]
  },
  {
   "cell_type": "code",
   "execution_count": 53,
   "metadata": {},
   "outputs": [
    {
     "name": "stdout",
     "output_type": "stream",
     "text": [
      "[[1.43449393 1.02803956]\n",
      " [0.59565998 0.76913994]\n",
      " [1.07331831 0.73110432]\n",
      " [1.5125919  1.22170705]\n",
      " [1.08888111 1.22038651]]\n",
      "\n",
      "[[1.43449393 1.02803956]\n",
      " [0.59565998 0.76913994]\n",
      " [1.07331831 0.73110432]\n",
      " [1.5125919  1.22170705]\n",
      " [1.08888111 1.22038651]]\n"
     ]
    }
   ],
   "source": [
    "x=np.random.random((5,3))\n",
    "y=np.random.random((3,2))\n",
    "print(x@y)\n",
    "print()\n",
    "print(x.dot(y))"
   ]
  },
  {
   "cell_type": "markdown",
   "metadata": {},
   "source": [
    "#### 11. Create a 5x5 matrix with row values ranging from 0 to 4 using tile function as follows:\n"
   ]
  },
  {
   "cell_type": "raw",
   "metadata": {},
   "source": [
    "array([[0, 1, 2, 3, 4],\n",
    "       [0, 1, 2, 3, 4],\n",
    "       [0, 1, 2, 3, 4],\n",
    "       [0, 1, 2, 3, 4],\n",
    "       [0, 1, 2, 3, 4]])"
   ]
  },
  {
   "cell_type": "code",
   "execution_count": 62,
   "metadata": {},
   "outputs": [
    {
     "name": "stdout",
     "output_type": "stream",
     "text": [
      "[[0 1 2 3 4]\n",
      " [0 1 2 3 4]\n",
      " [0 1 2 3 4]\n",
      " [0 1 2 3 4]\n",
      " [0 1 2 3 4]]\n"
     ]
    },
    {
     "data": {
      "text/plain": [
       "array([[0, 1, 2, 3, 4],\n",
       "       [0, 1, 2, 3, 4],\n",
       "       [0, 1, 2, 3, 4],\n",
       "       [0, 1, 2, 3, 4],\n",
       "       [0, 1, 2, 3, 4]])"
      ]
     },
     "execution_count": 62,
     "metadata": {},
     "output_type": "execute_result"
    }
   ],
   "source": [
    "v=np.arange(5)\n",
    "vm=np.tile(v,(5,1))\n",
    "print(vm)\n",
    "vm"
   ]
  },
  {
   "cell_type": "markdown",
   "metadata": {},
   "source": [
    "#### 12. Create a 5x5 matrix with row values ranging from 0 to 4 using broadcasting\n"
   ]
  },
  {
   "cell_type": "code",
   "execution_count": 68,
   "metadata": {},
   "outputs": [
    {
     "name": "stdout",
     "output_type": "stream",
     "text": [
      "[0 1 2 3 4]\n",
      "\n",
      "[[0.]\n",
      " [0.]\n",
      " [0.]\n",
      " [0.]\n",
      " [0.]]\n",
      "\n",
      "[[0. 1. 2. 3. 4.]\n",
      " [0. 1. 2. 3. 4.]\n",
      " [0. 1. 2. 3. 4.]\n",
      " [0. 1. 2. 3. 4.]\n",
      " [0. 1. 2. 3. 4.]]\n"
     ]
    }
   ],
   "source": [
    "a=np.arange(5)\n",
    "z=np.zeros((5,1))\n",
    "print(a)\n",
    "print()\n",
    "print(z)\n",
    "print()\n",
    "print(a+z)"
   ]
  },
  {
   "cell_type": "markdown",
   "metadata": {},
   "source": [
    "#### 13. Create a random vector of size 10 and sort it "
   ]
  },
  {
   "cell_type": "code",
   "execution_count": 73,
   "metadata": {},
   "outputs": [
    {
     "name": "stdout",
     "output_type": "stream",
     "text": [
      "[0.89391026 0.77439918 0.97823919 0.95852515 0.61803662 0.48120485\n",
      " 0.51112446 0.55212623 0.29760738 0.15986   ]\n",
      "[0.15986    0.29760738 0.48120485 0.51112446 0.55212623 0.61803662\n",
      " 0.77439918 0.89391026 0.95852515 0.97823919]\n"
     ]
    }
   ],
   "source": [
    "s=np.random.random(10)\n",
    "print(s)\n",
    "sd=np.sort(s)\n",
    "print(sd)"
   ]
  },
  {
   "cell_type": "markdown",
   "metadata": {},
   "source": [
    "#### 14. Subtract the mean of each row\n",
    "\n",
    "X = np.random.rand(5,10)"
   ]
  },
  {
   "cell_type": "code",
   "execution_count": 94,
   "metadata": {
    "scrolled": true
   },
   "outputs": [
    {
     "name": "stdout",
     "output_type": "stream",
     "text": [
      "[[0.76168746 0.82443063 0.59014287 0.16182464 0.14960187 0.49770112\n",
      "  0.81259781 0.69215695 0.59822922 0.55202235]\n",
      " [0.54271822 0.90259342 0.43851282 0.26688076 0.1897494  0.48996698\n",
      "  0.86669193 0.43098847 0.05041344 0.95699691]\n",
      " [0.32586114 0.95572152 0.40808909 0.72966049 0.52578612 0.70763538\n",
      "  0.20942522 0.10081977 0.94288349 0.43275747]\n",
      " [0.0577635  0.30395409 0.52418247 0.02362494 0.75343177 0.44816745\n",
      "  0.28084483 0.67096418 0.35299206 0.85076531]\n",
      " [0.60065433 0.04608701 0.56201339 0.5531948  0.16434141 0.61620048\n",
      "  0.53315383 0.81041207 0.15399257 0.63336264]]\n",
      "\n",
      "[0.5456016  0.35710464 0.39328149 0.62835341 0.58297588]\n",
      "\n",
      "[[ 0.21608586  0.27882903  0.04454128 -0.38377696 -0.39599973 -0.04790047\n",
      "   0.26699621  0.14655535  0.05262762  0.00642076]\n",
      " [ 0.18561358  0.54548878  0.08140818 -0.09022388 -0.16735525  0.13286234\n",
      "   0.50958729  0.07388382 -0.3066912   0.59989227]\n",
      " [-0.06742034  0.56244003  0.01480761  0.336379    0.13250463  0.31435389\n",
      "  -0.18385627 -0.29246172  0.549602    0.03947598]\n",
      " [-0.57058991 -0.32439932 -0.10417094 -0.60472847  0.12507836 -0.18018596\n",
      "  -0.34750858  0.04261077 -0.27536135  0.2224119 ]\n",
      " [ 0.01767845 -0.53688887 -0.02096248 -0.02978107 -0.41863446  0.03322461\n",
      "  -0.04982205  0.2274362  -0.42898331  0.05038677]]\n"
     ]
    }
   ],
   "source": [
    "X=np.random.rand(5,10)\n",
    "print(X)\n",
    "print()\n",
    "X_mean=np.array([*map(np.mean,x)])\n",
    "print(X_mean)\n",
    "print()\n",
    "print(X-X_mean.reshape(5,1))"
   ]
  },
  {
   "cell_type": "code",
   "execution_count": 106,
   "metadata": {},
   "outputs": [
    {
     "name": "stdout",
     "output_type": "stream",
     "text": [
      "[[0.64287884 0.3825977  0.15136589 0.03950782 0.81706925 0.22900083\n",
      "  0.10449729 0.40488426 0.60813276 0.57782069]\n",
      " [0.28613648 0.88815336 0.46427821 0.67691039 0.6019643  0.14886776\n",
      "  0.08098098 0.68152494 0.85438008 0.08687269]\n",
      " [0.11630219 0.49337569 0.04789675 0.66113876 0.05154045 0.60368072\n",
      "  0.57963174 0.7163837  0.30066403 0.45296003]\n",
      " [0.56020535 0.79492187 0.68354411 0.1948924  0.20399114 0.42124904\n",
      "  0.85643073 0.44383697 0.57280145 0.60333893]\n",
      " [0.12860467 0.50884386 0.13268482 0.82505213 0.56964659 0.3880224\n",
      "  0.98504608 0.01593231 0.17949607 0.1846031 ]]\n",
      "\n",
      "[0.39577553 0.47700692 0.40235741 0.5335212  0.3917932 ]\n",
      "\n",
      "[[ 0.24710331 -0.01317783 -0.24440964 -0.35626771  0.42129372 -0.1667747\n",
      "  -0.29127824  0.00910873  0.21235722  0.18204515]\n",
      " [-0.19087044  0.41114644 -0.01272871  0.19990347  0.12495738 -0.32813916\n",
      "  -0.39602594  0.20451802  0.37737316 -0.39013423]\n",
      " [-0.28605522  0.09101828 -0.35446066  0.25878135 -0.35081695  0.20132332\n",
      "   0.17727434  0.3140263  -0.10169338  0.05060262]\n",
      " [ 0.02668415  0.26140067  0.15002291 -0.3386288  -0.32953005 -0.11227216\n",
      "   0.32290953 -0.08968423  0.03928025  0.06981773]\n",
      " [-0.26318853  0.11705066 -0.25910839  0.43325893  0.17785339 -0.0037708\n",
      "   0.59325288 -0.3758609  -0.21229713 -0.20719011]]\n"
     ]
    }
   ],
   "source": [
    "X = np.random.rand(5,10)\n",
    "print(X)\n",
    "print()\n",
    "X_mean2=X.mean(axis=1)\n",
    "print(X_mean2)\n",
    "print()\n",
    "print(X-X_mean2.reshape(5,1))"
   ]
  },
  {
   "cell_type": "markdown",
   "metadata": {},
   "source": [
    "#### 15. Create, 10 by 10 multiplication table from 1 to 10"
   ]
  },
  {
   "cell_type": "code",
   "execution_count": 105,
   "metadata": {},
   "outputs": [
    {
     "data": {
      "text/plain": [
       "array([[  1,   2,   3,   4,   5,   6,   7,   8,   9,  10],\n",
       "       [  2,   4,   6,   8,  10,  12,  14,  16,  18,  20],\n",
       "       [  3,   6,   9,  12,  15,  18,  21,  24,  27,  30],\n",
       "       [  4,   8,  12,  16,  20,  24,  28,  32,  36,  40],\n",
       "       [  5,  10,  15,  20,  25,  30,  35,  40,  45,  50],\n",
       "       [  6,  12,  18,  24,  30,  36,  42,  48,  54,  60],\n",
       "       [  7,  14,  21,  28,  35,  42,  49,  56,  63,  70],\n",
       "       [  8,  16,  24,  32,  40,  48,  56,  64,  72,  80],\n",
       "       [  9,  18,  27,  36,  45,  54,  63,  72,  81,  90],\n",
       "       [ 10,  20,  30,  40,  50,  60,  70,  80,  90, 100]])"
      ]
     },
     "execution_count": 105,
     "metadata": {},
     "output_type": "execute_result"
    }
   ],
   "source": [
    "a=np.arange(1,11)\n",
    "a_T=a.reshape(10,1)\n",
    "a*a_T"
   ]
  },
  {
   "cell_type": "markdown",
   "metadata": {},
   "source": [
    "#### 16. How to get the diagonal of a dot product? \n",
    "\n",
    "A = np.random.uniform(0,1,(5,5))\n",
    "B = np.random.uniform(0,1,(5,5))"
   ]
  },
  {
   "cell_type": "code",
   "execution_count": 110,
   "metadata": {},
   "outputs": [
    {
     "name": "stdout",
     "output_type": "stream",
     "text": [
      "[[0.1927674  0.54249381 0.33538161 0.12913017 0.41443754]\n",
      " [0.04367771 0.28934709 0.70679905 0.42959369 0.62917605]\n",
      " [0.47680562 0.07871994 0.08347255 0.08558168 0.52697933]\n",
      " [0.43605282 0.71722157 0.14845891 0.46625413 0.43451442]\n",
      " [0.64383991 0.01586656 0.32031974 0.44468192 0.59082895]]\n",
      "\n",
      "[[0.31459889 0.67955631 0.49373509 0.31835299 0.52269477]\n",
      " [0.46969144 0.08148734 0.53349553 0.05680368 0.1743261 ]\n",
      " [0.90340741 0.36648437 0.53269245 0.43787826 0.69025461]\n",
      " [0.11268898 0.77685448 0.51625473 0.78356745 0.00651261]\n",
      " [0.28386192 0.07671684 0.62937612 0.47336652 0.50777604]]\n",
      "\n",
      "[[0.75062993 0.43022449 0.89075045 0.53640309 0.63811047]\n",
      " [1.0151819  0.69429057 1.17020526 0.97427934 0.88342046]\n",
      " [0.4216198  0.46793504 0.69772775 0.50932828 0.58870889]\n",
      " [0.78405725 0.80472098 1.19119092 0.81559261 0.67909996]\n",
      " [0.71720753 0.94699026 1.09840578 0.97424761 0.86330471]]\n",
      "\n",
      "[0.75062993 0.69429057 0.69772775 0.81559261 0.86330471]\n"
     ]
    }
   ],
   "source": [
    "A = np.random.uniform(0,1,(5,5))\n",
    "B = np.random.uniform(0,1,(5,5))\n",
    "print(A)\n",
    "print()\n",
    "print(B)\n",
    "print()\n",
    "print(A.dot(B))\n",
    "print()\n",
    "print(np.diagonal(A.dot(B)))"
   ]
  },
  {
   "cell_type": "markdown",
   "metadata": {},
   "source": [
    "#### 17. Consider the vector [1, 2, 3, 4, 5], how to build a new vector with 3 consecutive zeros interleaved between each value?"
   ]
  },
  {
   "cell_type": "code",
   "execution_count": 126,
   "metadata": {},
   "outputs": [
    {
     "name": "stdout",
     "output_type": "stream",
     "text": [
      "[1. 0. 0. 0. 2. 0. 0. 0. 3. 0. 0. 0. 4. 0. 0. 0. 5.]\n"
     ]
    }
   ],
   "source": [
    "a=np.array([1,2,3,4,5])\n",
    "a2=np.zeros(len(a)+(len(a)-1)*3)\n",
    "a2[::4]=a\n",
    "print(a2)"
   ]
  },
  {
   "cell_type": "markdown",
   "metadata": {},
   "source": [
    "#### 18. Consider two arrays A and B of shape (8,3) and (2,2). How to find rows of A that contain elements of each row of B regardless of the order of the elements in B?\n",
    "\n",
    "A = np.random.randint(0,5,(8,3))\n",
    "B = np.random.randint(0,5,(2,2))"
   ]
  },
  {
   "cell_type": "code",
   "execution_count": 128,
   "metadata": {},
   "outputs": [
    {
     "name": "stdout",
     "output_type": "stream",
     "text": [
      "[[1 2 0]\n",
      " [1 3 2]\n",
      " [4 2 0]\n",
      " [0 3 2]\n",
      " [4 3 1]\n",
      " [0 2 4]\n",
      " [1 2 2]\n",
      " [4 2 4]]\n",
      "\n",
      "[[1 0]\n",
      " [4 4]]\n"
     ]
    }
   ],
   "source": [
    "A = np.random.randint(0,5,(8,3))\n",
    "B = np.random.randint(0,5,(2,2))\n",
    "print(A)\n",
    "print()\n",
    "print(B)"
   ]
  },
  {
   "cell_type": "markdown",
   "metadata": {},
   "source": [
    "#### 19. How to swap two rows of an array? Generate an array from 0 to 24, and reshape it 5 by 5 and swap first two rows of the array"
   ]
  },
  {
   "cell_type": "code",
   "execution_count": 150,
   "metadata": {},
   "outputs": [
    {
     "name": "stdout",
     "output_type": "stream",
     "text": [
      "[[ 0  1  2  3  4]\n",
      " [ 5  6  7  8  9]\n",
      " [10 11 12 13 14]\n",
      " [15 16 17 18 19]\n",
      " [20 21 22 23 24]]\n",
      "[[ 5  6  7  8  9]\n",
      " [ 0  1  2  3  4]\n",
      " [10 11 12 13 14]\n",
      " [15 16 17 18 19]\n",
      " [20 21 22 23 24]]\n"
     ]
    }
   ],
   "source": [
    "x=np.arange(25).reshape(5,5)\n",
    "print(x)\n",
    "x[0:2]=x[[1,0],:]\n",
    "print(x)"
   ]
  },
  {
   "cell_type": "markdown",
   "metadata": {},
   "source": [
    "#### 20. How to find the most frequent value in an array? \n",
    "\n",
    "Z = np.random.randint(0,10,50). hint: np.bincount, np.argmax"
   ]
  },
  {
   "cell_type": "code",
   "execution_count": 151,
   "metadata": {},
   "outputs": [
    {
     "name": "stdout",
     "output_type": "stream",
     "text": [
      "[1 9 1 6 9 1 6 3 4 3 9 1 6 3 3 5 1 5 7 3 0 2 6 2 1 6 8 0 5 2 5 2 3 3 1 7 8\n",
      " 3 2 7 3 8 9 7 0 3 7 6 7 2]\n",
      "\n",
      "[ 3  7  6 10  1  4  6  6  3  4]\n",
      "\n",
      "3\n"
     ]
    }
   ],
   "source": [
    "Z=np.random.randint(0,10,50)\n",
    "print(Z)\n",
    "print()\n",
    "z=np.bincount(Z)\n",
    "print(z)\n",
    "print()\n",
    "print(np.argmax(z))"
   ]
  },
  {
   "cell_type": "code",
   "execution_count": 3,
   "metadata": {},
   "outputs": [
    {
     "name": "stdout",
     "output_type": "stream",
     "text": [
      "[1 2 2 2 3 3 3 4]\n",
      "\n",
      "[0 1 3 3 1]\n",
      "\n",
      "[2 3]\n"
     ]
    }
   ],
   "source": [
    "from collections import Counter\n",
    "\n",
    "Z = np.array([1,2,2,2,3,3,3,4])\n",
    "print(Z)\n",
    "print()\n",
    "x = np.bincount(Z)\n",
    "print(x)\n",
    "print()\n",
    "y = np.max(x)\n",
    "\n",
    "count = Counter(Z)\n",
    "\n",
    "val = np.array(list(count.values()))\n",
    "key = np.array(list(count.keys()))\n",
    "chk = (val == y)\n",
    "\n",
    "ans = key[chk]\n",
    "\n",
    "print( ans)"
   ]
  },
  {
   "cell_type": "markdown",
   "metadata": {},
   "source": [
    "#### 21. How to get the n largest values of an array?\n",
    "\n",
    "start with \n",
    "Z = np.arange(10000);\n",
    "np.random.shuffle(Z)\n",
    ", Hint: np.argsort"
   ]
  },
  {
   "cell_type": "code",
   "execution_count": 27,
   "metadata": {},
   "outputs": [
    {
     "name": "stdout",
     "output_type": "stream",
     "text": [
      "[3534 2345 7602 ... 2399 4513 4600]\n",
      "\n",
      "[7938 5459 9553 4439  353]\n",
      "\n",
      "[9999 9998 9997 9996 9995]\n"
     ]
    }
   ],
   "source": [
    "n=5\n",
    "Z = np.arange(10000);\n",
    "np.random.shuffle(Z)\n",
    "print(Z)\n",
    "print()\n",
    "Z_idx=np.argsort(Z)\n",
    "print(Z_idx[:-n-1:-1])\n",
    "print()\n",
    "print(Z[Z_idx[:-n-1:-1]])"
   ]
  },
  {
   "cell_type": "markdown",
   "metadata": {},
   "source": [
    "#### 22. Given a two dimensional array, how to extract unique rows? \n",
    "\n",
    "Hint: np.unique"
   ]
  },
  {
   "cell_type": "code",
   "execution_count": 178,
   "metadata": {},
   "outputs": [
    {
     "name": "stdout",
     "output_type": "stream",
     "text": [
      "[[0 0 0]\n",
      " [1 1 0]\n",
      " [1 0 1]\n",
      " [0 1 0]\n",
      " [0 0 0]\n",
      " [1 0 1]]\n",
      "\n",
      "[[0 0 0]\n",
      " [0 1 0]\n",
      " [1 0 1]\n",
      " [1 1 0]]\n"
     ]
    }
   ],
   "source": [
    "x=np.random.randint(0,2,(6,3))\n",
    "print(x)\n",
    "print()\n",
    "x_u = np.unique(x, axis=0)\n",
    "print(x_u)"
   ]
  },
  {
   "cell_type": "markdown",
   "metadata": {},
   "source": [
    "#### 23. How to compute averages using a sliding window over an array? \n",
    "\n",
    "make a function with two arguments, arry and size of the sliding window, def moving_avg(arr, n)\n"
   ]
  },
  {
   "cell_type": "code",
   "execution_count": 2,
   "metadata": {},
   "outputs": [],
   "source": [
    "def moving_avg(arr,n):\n",
    "    avg=[]\n",
    "    arr2=np.hstack([arr,arr])\n",
    "    for i in range(len(arr)):\n",
    "        tmp=np.mean(arr2[i:i+n])\n",
    "        avg.append(tmp)\n",
    "    return avg"
   ]
  },
  {
   "cell_type": "code",
   "execution_count": 8,
   "metadata": {},
   "outputs": [
    {
     "name": "stdout",
     "output_type": "stream",
     "text": [
      "4\n",
      "[9 6 3 1 4 9 6 1 3 5]\n",
      "[4.75, 3.5, 4.25, 5.0, 5.0, 4.75, 3.75, 4.5, 5.75, 5.75]\n",
      "total average is : 4.7\n"
     ]
    }
   ],
   "source": [
    "arr=np.random.randint(0,10,10)\n",
    "n=int(input())\n",
    "print(arr)\n",
    "print(moving_avg(arr,n))\n",
    "print('total average is :', np.mean(moving_avg(arr,n)))"
   ]
  },
  {
   "cell_type": "markdown",
   "metadata": {},
   "source": [
    "#### 24. Find the indices of elements from 4 by 4 random matrix (0-1) which are larger than 0.5\n",
    "\n",
    "Print a list of tuples indicating the index for row and column\n"
   ]
  },
  {
   "cell_type": "code",
   "execution_count": 12,
   "metadata": {},
   "outputs": [
    {
     "name": "stdout",
     "output_type": "stream",
     "text": [
      "[[0.67176287 0.24777973 0.79413697 0.77978747]\n",
      " [0.1367552  0.70546397 0.21531353 0.04117033]\n",
      " [0.62455157 0.12999739 0.60902802 0.58342729]\n",
      " [0.36647424 0.13065958 0.2984455  0.05546301]]\n",
      "\n",
      "(0, 0) (0, 2) (0, 3) (1, 1) (2, 0) (2, 2) (2, 3)\n"
     ]
    }
   ],
   "source": [
    "x=np.random.random((4,4))\n",
    "print(x)\n",
    "print()\n",
    "idx=np.nonzero(x>0.5)\n",
    "print(*zip(idx[0],idx[1]))"
   ]
  },
  {
   "cell_type": "markdown",
   "metadata": {},
   "source": [
    "#### 25. Write a function returning distance between two points"
   ]
  },
  {
   "cell_type": "raw",
   "metadata": {},
   "source": [
    "Test the function to check whether function is working correctly\n",
    "Hint: There are two arguments of function indicating two points"
   ]
  },
  {
   "cell_type": "code",
   "execution_count": 16,
   "metadata": {},
   "outputs": [
    {
     "data": {
      "text/plain": [
       "5.0"
      ]
     },
     "execution_count": 16,
     "metadata": {},
     "output_type": "execute_result"
    }
   ],
   "source": [
    "def distance(a,b):\n",
    "    x=a[0]-b[0]\n",
    "    y=a[1]-b[1]\n",
    "    d=np.sqrt(x**2+y**2)\n",
    "    return d\n",
    "a=[1,1]\n",
    "b=[4,5]\n",
    "\n",
    "distance(a,b)"
   ]
  }
 ],
 "metadata": {
  "kernelspec": {
   "display_name": "Python 3",
   "language": "python",
   "name": "python3"
  },
  "language_info": {
   "codemirror_mode": {
    "name": "ipython",
    "version": 3
   },
   "file_extension": ".py",
   "mimetype": "text/x-python",
   "name": "python",
   "nbconvert_exporter": "python",
   "pygments_lexer": "ipython3",
   "version": "3.6.4"
  }
 },
 "nbformat": 4,
 "nbformat_minor": 4
}
